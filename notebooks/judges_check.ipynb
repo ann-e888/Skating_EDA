{
 "cells": [
  {
   "cell_type": "code",
   "execution_count": 34,
   "metadata": {},
   "outputs": [],
   "source": [
    "import os\n",
    "import pandas as pd"
   ]
  },
  {
   "cell_type": "code",
   "execution_count": 35,
   "metadata": {},
   "outputs": [],
   "source": [
    "base_dir = os.path.dirname(os.getcwd()) \n",
    "judges_path = os.path.join(base_dir, 'csv files', 'Judge_Panel.csv')\n",
    "officials_path = os.path.join(base_dir, 'csv files', 'Official_Country.csv')"
   ]
  },
  {
   "cell_type": "code",
   "execution_count": 36,
   "metadata": {},
   "outputs": [],
   "source": [
    "judges_panel = pd.read_csv(judges_path)\n",
    "official_country = pd.read_csv(officials_path)"
   ]
  },
  {
   "cell_type": "code",
   "execution_count": 37,
   "metadata": {},
   "outputs": [],
   "source": [
    "merge = pd.merge(judges_panel, official_country, left_on='judge', right_on='official', how='left').drop(columns='official')\n",
    "empty_names = merge[merge['country'].isna()]"
   ]
  },
  {
   "cell_type": "code",
   "execution_count": 38,
   "metadata": {},
   "outputs": [
    {
     "name": "stdout",
     "output_type": "stream",
     "text": [
      "Jung Sue LEE gpcan2023SEG004OF\n",
      "Sung Hee KOH fc2022SEG004OF\n",
      "Sasha MARTINEZ fc2023SEG002OF\n",
      "Akos PETHES wc2025SEG002OF\n",
      "Hege Rosto JENSEN wc2025SEG003OF\n",
      "Francoise de RAPPARD gprus2021SEG004OF\n",
      "Katalin BALCZO gpusa2024SEG001OF\n",
      "Antony GREVISSE gpita2021SEG004OF\n",
      "Virginia de AGOSTINI gpita2021SEG003OF\n",
      "Daniella KARSIJNS gpcan2024SEG004OF\n",
      "Kyung Won SAKONG gpfra2024SEG004OF\n",
      "Attila SOOS gprus2021SEG002OF\n",
      "So Young AN wc2024SEG002OF\n",
      "Ann MUESING gpfin2024SEG004OF\n",
      "Iryna MEDVEDIEVA gpf2024SEG003OF\n",
      "Katherine Evelyn du PREEZ fc2022SEG001OF\n",
      "Helene CUCUPHAT gpusa2021SEG002OF\n",
      "Pernilla BOHLING gpjpn2021data0150\n",
      "Asa NORDBACK wc2024SEG002OF\n",
      "Lovorka KODRIN wc2024SEG002OF\n",
      "Zsuzsanna VIKARNE-HOMOLYA gpusa2021SEG003OF\n",
      "Lise Rosto JENSEN wc2024SEG003OF\n",
      "Nicole van GERWEN-MAAS ec2022SEG002OF\n",
      "Eva SZILAGYI gpcan2023SEG004OF\n",
      "Karen Anne HARRIS gpcan2023SEG004OF\n",
      "Hans-Ulrich LUETHI gpfra2023SEG001OF\n",
      "Merilyn VEKEMANS-van DUPPEN gpjpn2023data0250\n",
      "Allan BOEHM ec2023SEG001OF\n",
      "Almila ARIKAN SARBANOGLU fc2023SEG004OF\n",
      "Lisa DAVIDSON ec2023SEG002OF\n",
      "Adrienn SCHADENBAUER gpjpn2021data0230\n",
      "Yuriy GUSKOV gpfra2022SEG001OF\n",
      "Halina GORDON POLTORAK gpjpn2022data0230\n",
      "Lolita LABUNSKAIYA gpusa2021SEG002OF\n",
      "David MUNOZ gpusa2021SEG003OF\n",
      "Tanay OZKAN SILAOGLU gpfra2021SEG002OF\n",
      "Polina YAKOBS gprus2021SEG003OF\n"
     ]
    }
   ],
   "source": [
    "missing = empty_names['judge'].unique()\n",
    "\n",
    "for item in missing:\n",
    "    comp = empty_names[empty_names['judge'] == item]['competition'].sample(1).iloc[0]\n",
    "    print(item, comp)"
   ]
  }
 ],
 "metadata": {
  "kernelspec": {
   "display_name": "Python 3",
   "language": "python",
   "name": "python3"
  },
  "language_info": {
   "codemirror_mode": {
    "name": "ipython",
    "version": 3
   },
   "file_extension": ".py",
   "mimetype": "text/x-python",
   "name": "python",
   "nbconvert_exporter": "python",
   "pygments_lexer": "ipython3",
   "version": "3.10.11"
  }
 },
 "nbformat": 4,
 "nbformat_minor": 2
}
