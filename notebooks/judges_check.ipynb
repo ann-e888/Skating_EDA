{
 "cells": [
  {
   "cell_type": "code",
   "execution_count": 34,
   "metadata": {},
   "outputs": [],
   "source": [
    "import os\n",
    "import pandas as pd"
   ]
  },
  {
   "cell_type": "code",
   "execution_count": 35,
   "metadata": {},
   "outputs": [],
   "source": [
    "base_dir = os.path.dirname(os.getcwd()) \n",
    "judges_path = os.path.join(base_dir, 'csv files', 'Judge_Panel.csv')\n",
    "officials_path = os.path.join(base_dir, 'csv files', 'Official_Country.csv')"
   ]
  },
  {
   "cell_type": "code",
   "execution_count": 36,
   "metadata": {},
   "outputs": [],
   "source": [
    "judges_panel = pd.read_csv(judges_path)\n",
    "official_country = pd.read_csv(officials_path)"
   ]
  },
  {
   "cell_type": "code",
   "execution_count": 37,
   "metadata": {},
   "outputs": [],
   "source": [
    "merge = pd.merge(judges_panel, official_country, left_on='judge', right_on='official', how='left').drop(columns='official')\n",
    "empty_names = merge[merge['country'].isna()]"
   ]
  },
  {
   "cell_type": "code",
   "execution_count": 40,
   "metadata": {},
   "outputs": [
    {
     "name": "stdout",
     "output_type": "stream",
     "text": [
      "Jung Sue LEE gpfra2022SEG002OF\n",
      "Sung Hee KOH fc2022SEG003OF\n",
      "Sasha MARTINEZ gpusa2024SEG002OF\n",
      "Akos PETHES wc2025SEG002OF\n",
      "Hege Rosto JENSEN wc2025SEG003OF\n",
      "Francoise de RAPPARD gpfra2022SEG003OF\n",
      "Katalin BALCZO gpusa2024SEG002OF\n",
      "Antony GREVISSE gpfin2022SEG001OF\n",
      "Virginia de AGOSTINI gpcan2024SEG002OF\n",
      "Daniella KARSIJNS gpcan2024SEG004OF\n",
      "Kyung Won SAKONG gpfin2023SEG004OF\n",
      "Attila SOOS gpjpn2024SEG003OF\n",
      "So Young AN gpfin2024SEG001OF\n",
      "Ann MUESING gpjpn2023data0230\n",
      "Iryna MEDVEDIEVA gpf2024SEG004OF\n",
      "Katherine Evelyn du PREEZ fc2022SEG002OF\n",
      "Helene CUCUPHAT ec2024SEG002OF\n",
      "Pernilla BOHLING ec2024SEG004OF\n",
      "Asa NORDBACK wc2024SEG002OF\n",
      "Lovorka KODRIN wc2024SEG002OF\n",
      "Zsuzsanna VIKARNE-HOMOLYA ec2023SEG004OF\n",
      "Lise Rosto JENSEN wc2024SEG003OF\n",
      "Nicole van GERWEN-MAAS gpusa2023SEG003OF\n",
      "Eva SZILAGYI gpcan2023SEG003OF\n",
      "Karen Anne HARRIS gpcan2023SEG003OF\n",
      "Hans-Ulrich LUETHI gpfra2023SEG001OF\n",
      "Merilyn VEKEMANS-van DUPPEN gpjpn2023data0230\n",
      "Allan BOEHM ec2023SEG001OF\n",
      "Almila ARIKAN SARBANOGLU fc2023SEG004OF\n",
      "Lisa DAVIDSON ec2023SEG002OF\n",
      "Adrienn SCHADENBAUER wc2023data0130\n",
      "Yuriy GUSKOV wc2022SEG002OF\n",
      "Halina GORDON POLTORAK gpjpn2022data0250\n",
      "Lolita LABUNSKAIYA gpusa2021SEG001OF\n",
      "David MUNOZ gpusa2021SEG003OF\n",
      "Tanay OZKAN SILAOGLU gpfra2021SEG002OF\n",
      "Polina YAKOBS gprus2021SEG004OF\n"
     ]
    }
   ],
   "source": [
    "missing = empty_names['judge'].unique()\n",
    "\n",
    "for item in missing:\n",
    "    comp = empty_names[empty_names['judge'] == item]['competition'].sample(1).iloc[0]\n",
    "    print(item, comp)"
   ]
  },
  {
   "cell_type": "code",
   "execution_count": 42,
   "metadata": {},
   "outputs": [],
   "source": [
    "missing_judges_dict = {\n",
    "    \"Jung Sue LEE\": \"KR\",\n",
    "    \"Sung Hee KOH\": \"KR\",\n",
    "    \"Sasha MARTINEZ\": \"MX\",\n",
    "    \"Akos PETHES\": \"HU\",\n",
    "    \"Hege Rosto JENSEN\": \"NO\",\n",
    "    \"Francoise de RAPPARD\": \"BE\",\n",
    "    \"Katalin BALCZO\": \"HU\",\n",
    "    \"Antony GREVISSE\": \"BE\",\n",
    "    \"Virginia de AGOSTINI\": \"IT\",\n",
    "    \"Daniella KARSIJNS\": \"NL\",\n",
    "    \"Kyung Won SAKONG\": \"KR\",\n",
    "    \"Attila SOOS\": \"HU\",\n",
    "    \"So Young AN\": \"KR\",\n",
    "    \"Ann MUESING\": \"BE\",\n",
    "    \"Iryna MEDVEDIEVA\": \"UA\",\n",
    "    \"Katherine Evelyn du PREEZ\": \"AU\",\n",
    "    \"Helene CUCUPHAT\": \"FR\",\n",
    "    \"Pernilla BOHLING\": \"FI\",\n",
    "    \"Asa NORDBACK\": \"SE\",\n",
    "    \"Lovorka KODRIN\": \"HR\",\n",
    "    \"Zsuzsanna VIKARNE-HOMOLYA\": \"HU\",\n",
    "    \"Lise Rosto JENSEN\": \"NO\",\n",
    "    \"Nicole van GERWEN-MAAS\": \"NL\",\n",
    "    \"Eva SZILAGYI\": \"HU\",\n",
    "    \"Karen Anne HARRIS\": \"AU\",\n",
    "    \"Hans-Ulrich LUETHI\": \"CH\",\n",
    "    \"Merilyn VEKEMANS-van DUPPEN\": \"NL\",\n",
    "    \"Allan BOEHM\": \"SK\",\n",
    "    \"Almila ARIKAN SARBANOGLU\": \"GB\",\n",
    "    \"Lisa DAVIDSON\": \"GB\",\n",
    "    \"Adrienn SCHADENBAUER\": \"AT\",\n",
    "    \"Yuriy GUSKOV\": \"KZ\",\n",
    "    \"Halina GORDON POLTORAK\": \"PL\",\n",
    "    \"Lolita LABUNSKAIYA\": \"RU\",\n",
    "    \"David MUNOZ\": \"ES\",\n",
    "    \"Tanay OZKAN SILAOGLU\": \"TR\",\n",
    "    \"Polina YAKOBS\": \"RU\"\n",
    "}"
   ]
  },
  {
   "cell_type": "code",
   "execution_count": 46,
   "metadata": {},
   "outputs": [
    {
     "data": {
      "application/vnd.microsoft.datawrangler.viewer.v0+json": {
       "columns": [
        {
         "name": "index",
         "rawType": "int64",
         "type": "integer"
        },
        {
         "name": "competition",
         "rawType": "object",
         "type": "string"
        },
        {
         "name": "role",
         "rawType": "object",
         "type": "string"
        },
        {
         "name": "judge",
         "rawType": "object",
         "type": "string"
        },
        {
         "name": "country",
         "rawType": "object",
         "type": "string"
        }
       ],
       "conversionMethod": "pd.DataFrame",
       "ref": "dd8506a8-f30b-4786-95cc-7c29da54ac18",
       "rows": [
        [
         "0",
         "fc2025SEG001OF",
         "Judge No.1",
         "Jung Sue LEE",
         "KR"
        ],
        [
         "13",
         "fc2025SEG002OF",
         "Judge No.5",
         "Jung Sue LEE",
         "KR"
        ],
        [
         "21",
         "fc2025SEG003OF",
         "Judge No.4",
         "Sung Hee KOH",
         "KR"
        ],
        [
         "25",
         "fc2025SEG003OF",
         "Judge No.8",
         "Sasha MARTINEZ",
         "MX"
        ],
        [
         "33",
         "fc2025SEG004OF",
         "Judge No.7",
         "Sung Hee KOH",
         "KR"
        ],
        [
         "34",
         "fc2025SEG004OF",
         "Judge No.8",
         "Sasha MARTINEZ",
         "MX"
        ],
        [
         "82",
         "wc2025SEG002OF",
         "Judge No.2",
         "Akos PETHES",
         "HU"
        ],
        [
         "94",
         "wc2025SEG003OF",
         "Judge No.5",
         "Hege Rosto JENSEN",
         "NO"
        ],
        [
         "104",
         "wc2025SEG004OF",
         "Judge No.6",
         "Francoise de RAPPARD",
         "BE"
        ],
        [
         "109",
         "gpusa2024SEG001OF",
         "Judge No.2",
         "Sasha MARTINEZ",
         "MX"
        ],
        [
         "111",
         "gpusa2024SEG001OF",
         "Judge No.4",
         "Katalin BALCZO",
         "HU"
        ],
        [
         "118",
         "gpusa2024SEG002OF",
         "Judge No.2",
         "Sasha MARTINEZ",
         "MX"
        ],
        [
         "120",
         "gpusa2024SEG002OF",
         "Judge No.4",
         "Katalin BALCZO",
         "HU"
        ],
        [
         "129",
         "gpusa2024SEG003OF",
         "Judge No.4",
         "Antony GREVISSE",
         "BE"
        ],
        [
         "138",
         "gpusa2024SEG004OF",
         "Judge No.4",
         "Antony GREVISSE",
         "BE"
        ],
        [
         "151",
         "gpcan2024SEG001OF",
         "Judge No.8",
         "Virginia de AGOSTINI",
         "IT"
        ],
        [
         "160",
         "gpcan2024SEG002OF",
         "Judge No.8",
         "Virginia de AGOSTINI",
         "IT"
        ],
        [
         "166",
         "gpcan2024SEG003OF",
         "Judge No.5",
         "Daniella KARSIJNS",
         "NL"
        ],
        [
         "175",
         "gpcan2024SEG004OF",
         "Judge No.5",
         "Daniella KARSIJNS",
         "NL"
        ],
        [
         "200",
         "gpfra2024SEG003OF",
         "Judge No.3",
         "Kyung Won SAKONG",
         "KR"
        ],
        [
         "204",
         "gpfra2024SEG003OF",
         "Judge No.7",
         "Francoise de RAPPARD",
         "BE"
        ],
        [
         "209",
         "gpfra2024SEG004OF",
         "Judge No.3",
         "Kyung Won SAKONG",
         "KR"
        ],
        [
         "213",
         "gpfra2024SEG004OF",
         "Judge No.7",
         "Francoise de RAPPARD",
         "BE"
        ],
        [
         "218",
         "gpjpn2024SEG001OF",
         "Judge No.3",
         "Jung Sue LEE",
         "KR"
        ],
        [
         "227",
         "gpjpn2024SEG002OF",
         "Judge No.3",
         "Jung Sue LEE",
         "KR"
        ],
        [
         "239",
         "gpjpn2024SEG003OF",
         "Judge No.6",
         "Jung Sue LEE",
         "KR"
        ],
        [
         "240",
         "gpjpn2024SEG003OF",
         "Judge No.7",
         "Attila SOOS",
         "HU"
        ],
        [
         "248",
         "gpjpn2024SEG004OF",
         "Judge No.6",
         "Jung Sue LEE",
         "KR"
        ],
        [
         "249",
         "gpjpn2024SEG004OF",
         "Judge No.7",
         "Attila SOOS",
         "HU"
        ],
        [
         "253",
         "gpfin2024SEG001OF",
         "Judge No.2",
         "So Young AN",
         "KR"
        ],
        [
         "262",
         "gpfin2024SEG002OF",
         "Judge No.2",
         "So Young AN",
         "KR"
        ],
        [
         "271",
         "gpfin2024SEG003OF",
         "Judge No.2",
         "Ann MUESING",
         "BE"
        ],
        [
         "274",
         "gpfin2024SEG003OF",
         "Judge No.5",
         "So Young AN",
         "KR"
        ],
        [
         "280",
         "gpfin2024SEG004OF",
         "Judge No.2",
         "Ann MUESING",
         "BE"
        ],
        [
         "283",
         "gpfin2024SEG004OF",
         "Judge No.5",
         "So Young AN",
         "KR"
        ],
        [
         "331",
         "gpf2024SEG001OF",
         "Judge No.8",
         "Jung Sue LEE",
         "KR"
        ],
        [
         "340",
         "gpf2024SEG002OF",
         "Judge No.8",
         "Jung Sue LEE",
         "KR"
        ],
        [
         "343",
         "gpf2024SEG003OF",
         "Judge No.2",
         "Jung Sue LEE",
         "KR"
        ],
        [
         "348",
         "gpf2024SEG003OF",
         "Judge No.7",
         "Iryna MEDVEDIEVA",
         "UA"
        ],
        [
         "352",
         "gpf2024SEG004OF",
         "Judge No.2",
         "Jung Sue LEE",
         "KR"
        ],
        [
         "357",
         "gpf2024SEG004OF",
         "Judge No.7",
         "Iryna MEDVEDIEVA",
         "UA"
        ],
        [
         "367",
         "fc2024SEG001OF",
         "Judge No.8",
         "Katherine Evelyn du PREEZ",
         "AU"
        ],
        [
         "372",
         "fc2024SEG002OF",
         "Judge No.4",
         "Katherine Evelyn du PREEZ",
         "AU"
        ],
        [
         "379",
         "fc2024SEG003OF",
         "Judge No.2",
         "Sasha MARTINEZ",
         "MX"
        ],
        [
         "383",
         "fc2024SEG003OF",
         "Judge No.6",
         "Jung Sue LEE",
         "KR"
        ],
        [
         "392",
         "fc2024SEG004OF",
         "Judge No.6",
         "Sasha MARTINEZ",
         "MX"
        ],
        [
         "394",
         "fc2024SEG004OF",
         "Judge No.8",
         "Jung Sue LEE",
         "KR"
        ],
        [
         "405",
         "ec2024SEG002OF",
         "Judge No.1",
         "Helene CUCUPHAT",
         "FR"
        ],
        [
         "421",
         "ec2024SEG003OF",
         "Judge No.8",
         "Francoise de RAPPARD",
         "BE"
        ],
        [
         "422",
         "ec2024SEG003OF",
         "Judge No.9",
         "Pernilla BOHLING",
         "FI"
        ]
       ],
       "shape": {
        "columns": 4,
        "rows": 201
       }
      },
      "text/html": [
       "<div>\n",
       "<style scoped>\n",
       "    .dataframe tbody tr th:only-of-type {\n",
       "        vertical-align: middle;\n",
       "    }\n",
       "\n",
       "    .dataframe tbody tr th {\n",
       "        vertical-align: top;\n",
       "    }\n",
       "\n",
       "    .dataframe thead th {\n",
       "        text-align: right;\n",
       "    }\n",
       "</style>\n",
       "<table border=\"1\" class=\"dataframe\">\n",
       "  <thead>\n",
       "    <tr style=\"text-align: right;\">\n",
       "      <th></th>\n",
       "      <th>competition</th>\n",
       "      <th>role</th>\n",
       "      <th>judge</th>\n",
       "      <th>country</th>\n",
       "    </tr>\n",
       "  </thead>\n",
       "  <tbody>\n",
       "    <tr>\n",
       "      <th>0</th>\n",
       "      <td>fc2025SEG001OF</td>\n",
       "      <td>Judge No.1</td>\n",
       "      <td>Jung Sue LEE</td>\n",
       "      <td>KR</td>\n",
       "    </tr>\n",
       "    <tr>\n",
       "      <th>13</th>\n",
       "      <td>fc2025SEG002OF</td>\n",
       "      <td>Judge No.5</td>\n",
       "      <td>Jung Sue LEE</td>\n",
       "      <td>KR</td>\n",
       "    </tr>\n",
       "    <tr>\n",
       "      <th>21</th>\n",
       "      <td>fc2025SEG003OF</td>\n",
       "      <td>Judge No.4</td>\n",
       "      <td>Sung Hee KOH</td>\n",
       "      <td>KR</td>\n",
       "    </tr>\n",
       "    <tr>\n",
       "      <th>25</th>\n",
       "      <td>fc2025SEG003OF</td>\n",
       "      <td>Judge No.8</td>\n",
       "      <td>Sasha MARTINEZ</td>\n",
       "      <td>MX</td>\n",
       "    </tr>\n",
       "    <tr>\n",
       "      <th>33</th>\n",
       "      <td>fc2025SEG004OF</td>\n",
       "      <td>Judge No.7</td>\n",
       "      <td>Sung Hee KOH</td>\n",
       "      <td>KR</td>\n",
       "    </tr>\n",
       "    <tr>\n",
       "      <th>...</th>\n",
       "      <td>...</td>\n",
       "      <td>...</td>\n",
       "      <td>...</td>\n",
       "      <td>...</td>\n",
       "    </tr>\n",
       "    <tr>\n",
       "      <th>1355</th>\n",
       "      <td>gpita2021SEG003OF</td>\n",
       "      <td>Judge No.8</td>\n",
       "      <td>Virginia de AGOSTINI</td>\n",
       "      <td>IT</td>\n",
       "    </tr>\n",
       "    <tr>\n",
       "      <th>1356</th>\n",
       "      <td>gpita2021SEG003OF</td>\n",
       "      <td>Judge No.9</td>\n",
       "      <td>Antony GREVISSE</td>\n",
       "      <td>BE</td>\n",
       "    </tr>\n",
       "    <tr>\n",
       "      <th>1357</th>\n",
       "      <td>gpita2021SEG004OF</td>\n",
       "      <td>Judge No.1</td>\n",
       "      <td>Lolita LABUNSKAIYA</td>\n",
       "      <td>RU</td>\n",
       "    </tr>\n",
       "    <tr>\n",
       "      <th>1364</th>\n",
       "      <td>gpita2021SEG004OF</td>\n",
       "      <td>Judge No.8</td>\n",
       "      <td>Virginia de AGOSTINI</td>\n",
       "      <td>IT</td>\n",
       "    </tr>\n",
       "    <tr>\n",
       "      <th>1365</th>\n",
       "      <td>gpita2021SEG004OF</td>\n",
       "      <td>Judge No.9</td>\n",
       "      <td>Antony GREVISSE</td>\n",
       "      <td>BE</td>\n",
       "    </tr>\n",
       "  </tbody>\n",
       "</table>\n",
       "<p>201 rows × 4 columns</p>\n",
       "</div>"
      ],
      "text/plain": [
       "            competition        role                 judge country\n",
       "0        fc2025SEG001OF  Judge No.1          Jung Sue LEE      KR\n",
       "13       fc2025SEG002OF  Judge No.5          Jung Sue LEE      KR\n",
       "21       fc2025SEG003OF  Judge No.4          Sung Hee KOH      KR\n",
       "25       fc2025SEG003OF  Judge No.8        Sasha MARTINEZ      MX\n",
       "33       fc2025SEG004OF  Judge No.7          Sung Hee KOH      KR\n",
       "...                 ...         ...                   ...     ...\n",
       "1355  gpita2021SEG003OF  Judge No.8  Virginia de AGOSTINI      IT\n",
       "1356  gpita2021SEG003OF  Judge No.9       Antony GREVISSE      BE\n",
       "1357  gpita2021SEG004OF  Judge No.1    Lolita LABUNSKAIYA      RU\n",
       "1364  gpita2021SEG004OF  Judge No.8  Virginia de AGOSTINI      IT\n",
       "1365  gpita2021SEG004OF  Judge No.9       Antony GREVISSE      BE\n",
       "\n",
       "[201 rows x 4 columns]"
      ]
     },
     "execution_count": 46,
     "metadata": {},
     "output_type": "execute_result"
    }
   ],
   "source": [
    "for name in missing_judges_dict.keys():\n",
    "    empty_names.loc[empty_names['judge'] == name, 'country'] = missing_judges_dict[name]\n",
    "\n",
    "empty_names"
   ]
  }
 ],
 "metadata": {
  "kernelspec": {
   "display_name": "Python 3",
   "language": "python",
   "name": "python3"
  },
  "language_info": {
   "codemirror_mode": {
    "name": "ipython",
    "version": 3
   },
   "file_extension": ".py",
   "mimetype": "text/x-python",
   "name": "python",
   "nbconvert_exporter": "python",
   "pygments_lexer": "ipython3",
   "version": "3.10.11"
  }
 },
 "nbformat": 4,
 "nbformat_minor": 2
}
