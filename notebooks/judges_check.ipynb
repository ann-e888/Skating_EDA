{
 "cells": [
  {
   "cell_type": "code",
   "execution_count": 1,
   "metadata": {},
   "outputs": [],
   "source": [
    "import os\n",
    "import pandas as pd"
   ]
  },
  {
   "cell_type": "code",
   "execution_count": 2,
   "metadata": {},
   "outputs": [],
   "source": [
    "base_dir = os.path.dirname(os.getcwd()) \n",
    "judges_path = os.path.join(base_dir, 'csv files', 'Judge_Panel.csv')\n",
    "officials_path = os.path.join(base_dir, 'csv files', 'Official_Country.csv')"
   ]
  },
  {
   "cell_type": "code",
   "execution_count": 3,
   "metadata": {},
   "outputs": [],
   "source": [
    "judges_panel = pd.read_csv(judges_path)\n",
    "official_country = pd.read_csv(officials_path)"
   ]
  },
  {
   "cell_type": "code",
   "execution_count": 4,
   "metadata": {},
   "outputs": [],
   "source": [
    "merged = pd.merge(judges_panel, official_country, left_on='judge', right_on='official', how='left').drop(columns='official')\n",
    "empty_names = merged[merged['country'].isna()]"
   ]
  },
  {
   "cell_type": "code",
   "execution_count": 5,
   "metadata": {},
   "outputs": [
    {
     "name": "stdout",
     "output_type": "stream",
     "text": [
      "Jung Sue LEE gpf2024SEG003OF\n",
      "Sung Hee KOH fc2025SEG003OF\n",
      "Sasha MARTINEZ fc2024SEG004OF\n",
      "Akos PETHES wc2025SEG002OF\n",
      "Hege Rosto JENSEN wc2025SEG003OF\n",
      "Francoise de RAPPARD gpf2023SEG001OF\n",
      "Katalin BALCZO gpusa2024SEG002OF\n",
      "Antony GREVISSE gpchn2023SEG003OF\n",
      "Virginia de AGOSTINI gpita2021SEG003OF\n",
      "Daniella KARSIJNS gpcan2024SEG003OF\n",
      "Kyung Won SAKONG gpfra2024SEG004OF\n",
      "Attila SOOS wc2022SEG004OF\n",
      "So Young AN gpusa2023SEG004OF\n",
      "Ann MUESING gpfin2024SEG003OF\n",
      "Iryna MEDVEDIEVA wc2021SEG001OF\n",
      "Katherine Evelyn du PREEZ gpfin2022SEG004OF\n",
      "Helene CUCUPHAT gpfra2019SEG004OF\n",
      "Pernilla BOHLING gpjpn2021data0130\n",
      "Asa NORDBACK gpfin2023SEG001OF\n",
      "Lovorka KODRIN wc2024SEG002OF\n",
      "Zsuzsanna VIKARNE-HOMOLYA ec2023SEG004OF\n",
      "Lise Rosto JENSEN ec2020SEG001OF\n",
      "Nicole van GERWEN-MAAS ec2022SEG002OF\n",
      "Eva SZILAGYI gpcan2023SEG003OF\n",
      "Karen Anne HARRIS gpcan2023SEG003OF\n",
      "Hans-Ulrich LUETHI gpfra2023SEG001OF\n",
      "Merilyn VEKEMANS-van DUPPEN gpjpn2023data0230\n",
      "Allan BOEHM ec2023SEG001OF\n",
      "Almila ARIKAN SARBANOGLU fc2023SEG003OF\n",
      "Lisa DAVIDSON wc2021SEG002OF\n",
      "Adrienn SCHADENBAUER wc2023data0150\n",
      "Yuriy GUSKOV gpfin2022SEG002OF\n",
      "Halina GORDON POLTORAK gpjpn2022data0250\n",
      "Lolita LABUNSKAIYA gpita2021SEG003OF\n",
      "David MUNOZ gpusa2021SEG003OF\n",
      "Tanay OZKAN SILAOGLU gpfra2021SEG002OF\n",
      "Polina YAKOBS gprus2021SEG004OF\n",
      "Stefanie SCHMID MATHEWSON gpcan2019SEG004OF\n",
      "Maria GRIBONOSOVA-GREBNEVA gpcan2019SEG001OF\n"
     ]
    }
   ],
   "source": [
    "missing = empty_names['judge'].unique()\n",
    "\n",
    "for item in missing:\n",
    "    comp = empty_names[empty_names['judge'] == item]['competition'].sample(1).iloc[0]\n",
    "    print(item, comp)"
   ]
  },
  {
   "cell_type": "code",
   "execution_count": 6,
   "metadata": {},
   "outputs": [],
   "source": [
    "missing_judges_dict = {\n",
    "    \"Jung Sue LEE\": \"South Korea\",\n",
    "    \"Sung Hee KOH\": \"South Korea\",\n",
    "    \"Sasha MARTINEZ\": \"Mexico\",\n",
    "    \"Akos PETHES\": \"Hungary\",\n",
    "    \"Hege Rosto JENSEN\": \"Norway\",\n",
    "    \"Francoise de RAPPARD\": \"Belgium\",\n",
    "    \"Katalin BALCZO\": \"Hungary\",\n",
    "    \"Antony GREVISSE\": \"Belgium\",\n",
    "    \"Virginia de AGOSTINI\": \"Italy\",\n",
    "    \"Daniella KARSIJNS\": \"Netherlands\",\n",
    "    \"Kyung Won SAKONG\": \"South Korea\",\n",
    "    \"Attila SOOS\": \"Hungary\",\n",
    "    \"So Young AN\": \"South Korea\",\n",
    "    \"Ann MUESING\": \"Belgium\",\n",
    "    \"Iryna MEDVEDIEVA\": \"Ukraine\",\n",
    "    \"Katherine Evelyn du PREEZ\": \"Australia\",\n",
    "    \"Helene CUCUPHAT\": \"France\",\n",
    "    \"Pernilla BOHLING\": \"Finland\",\n",
    "    \"Asa NORDBACK\": \"Sweden\",\n",
    "    \"Lovorka KODRIN\": \"Croatia\",\n",
    "    \"Zsuzsanna VIKARNE-HOMOLYA\": \"Hungary\",\n",
    "    \"Lise Rosto JENSEN\": \"Norway\",\n",
    "    \"Nicole van GERWEN-MAAS\": \"Netherlands\",\n",
    "    \"Eva SZILAGYI\": \"Hungary\",\n",
    "    \"Karen Anne HARRIS\": \"Australia\",\n",
    "    \"Hans-Ulrich LUETHI\": \"Switzerland\",\n",
    "    \"Merilyn VEKEMANS-van DUPPEN\": \"Netherlands\",\n",
    "    \"Allan BOEHM\": \"Slovakia\",\n",
    "    \"Almila ARIKAN SARBANOGLU\": \"Great Britain\",\n",
    "    \"Lisa DAVIDSON\": \"Great Britain\",\n",
    "    \"Adrienn SCHADENBAUER\": \"Austria\",\n",
    "    \"Yuriy GUSKOV\": \"Kazakhstan\",\n",
    "    \"Halina GORDON POLTORAK\": \"Poland\",\n",
    "    \"Lolita LABUNSKAIYA\": \"Russia\",\n",
    "    \"David MUNOZ\": \"Estonia\",\n",
    "    \"Tanay OZKAN SILAOGLU\": \"Turkey\",\n",
    "    \"Polina YAKOBS\": \"Russia\",\n",
    "    \"Maria GRIBONOSOVA-GREBNEVA\": \"Russia\",\n",
    "    \"Stefanie SCHMID MATHEWSON\": \"USA\"\n",
    "} "
   ]
  },
  {
   "cell_type": "code",
   "execution_count": 7,
   "metadata": {},
   "outputs": [],
   "source": [
    "for name in missing_judges_dict.keys():\n",
    "    merged.loc[merged['judge'] == name, 'country'] = missing_judges_dict[name]"
   ]
  },
  {
   "cell_type": "code",
   "execution_count": 8,
   "metadata": {},
   "outputs": [
    {
     "data": {
      "application/vnd.microsoft.datawrangler.viewer.v0+json": {
       "columns": [
        {
         "name": "index",
         "rawType": "int64",
         "type": "integer"
        },
        {
         "name": "competition",
         "rawType": "object",
         "type": "string"
        },
        {
         "name": "role",
         "rawType": "object",
         "type": "string"
        },
        {
         "name": "judge",
         "rawType": "object",
         "type": "string"
        },
        {
         "name": "country",
         "rawType": "object",
         "type": "string"
        }
       ],
       "conversionMethod": "pd.DataFrame",
       "ref": "cf2462d6-4a5e-4144-a4c4-98008eaec67d",
       "rows": [
        [
         "0",
         "fc2025SEG001OF",
         "Judge No.1",
         "Jung Sue LEE",
         "South Korea"
        ],
        [
         "1",
         "fc2025SEG001OF",
         "Judge No.2",
         "Ariadna MORONES NEGRETE",
         "Mexico"
        ],
        [
         "2",
         "fc2025SEG001OF",
         "Judge No.3",
         "Saodat NUMANOVA",
         "Uzbekistan"
        ],
        [
         "3",
         "fc2025SEG001OF",
         "Judge No.4",
         "Joanna MILLER",
         "Australia"
        ],
        [
         "4",
         "fc2025SEG001OF",
         "Judge No.5",
         "Mami MAEDA",
         "Japan"
        ],
        [
         "5",
         "fc2025SEG001OF",
         "Judge No.6",
         "Nadezhda PARETSKAIA",
         "Kazakhstan"
        ],
        [
         "6",
         "fc2025SEG001OF",
         "Judge No.7",
         "Rui ZHAO",
         "China"
        ],
        [
         "7",
         "fc2025SEG001OF",
         "Judge No.8",
         "Andre-Marc ALLAIN",
         "Canada"
        ],
        [
         "8",
         "fc2025SEG001OF",
         "Judge No.9",
         "Steven HSU",
         "USA"
        ],
        [
         "9",
         "fc2025SEG002OF",
         "Judge No.1",
         "Rui ZHAO",
         "China"
        ],
        [
         "10",
         "fc2025SEG002OF",
         "Judge No.2",
         "Andre-Marc ALLAIN",
         "Canada"
        ],
        [
         "11",
         "fc2025SEG002OF",
         "Judge No.3",
         "Saodat NUMANOVA",
         "Uzbekistan"
        ],
        [
         "12",
         "fc2025SEG002OF",
         "Judge No.4",
         "Nadezhda PARETSKAIA",
         "Kazakhstan"
        ],
        [
         "13",
         "fc2025SEG002OF",
         "Judge No.5",
         "Jung Sue LEE",
         "South Korea"
        ],
        [
         "14",
         "fc2025SEG002OF",
         "Judge No.6",
         "Joanna MILLER",
         "Australia"
        ],
        [
         "15",
         "fc2025SEG002OF",
         "Judge No.7",
         "Steven HSU",
         "USA"
        ],
        [
         "16",
         "fc2025SEG002OF",
         "Judge No.8",
         "Mami MAEDA",
         "Japan"
        ],
        [
         "17",
         "fc2025SEG002OF",
         "Judge No.9",
         "Ariadna MORONES NEGRETE",
         "Mexico"
        ],
        [
         "18",
         "fc2025SEG003OF",
         "Judge No.1",
         "Weiguang CHEN",
         "China"
        ],
        [
         "19",
         "fc2025SEG003OF",
         "Judge No.2",
         "Nobuhiko YOSHIOKA",
         "Japan"
        ],
        [
         "20",
         "fc2025SEG003OF",
         "Judge No.3",
         "Neil GARRARD",
         "South Africa"
        ],
        [
         "21",
         "fc2025SEG003OF",
         "Judge No.4",
         "Sung Hee KOH",
         "South Korea"
        ],
        [
         "22",
         "fc2025SEG003OF",
         "Judge No.5",
         "Anne CAMMETT",
         "USA"
        ],
        [
         "23",
         "fc2025SEG003OF",
         "Judge No.6",
         "Elizabeth ALEXANDRE",
         "Australia"
        ],
        [
         "24",
         "fc2025SEG003OF",
         "Judge No.7",
         "Marina BESCHEA",
         "Romania"
        ],
        [
         "25",
         "fc2025SEG003OF",
         "Judge No.8",
         "Sasha MARTINEZ",
         "Mexico"
        ],
        [
         "26",
         "fc2025SEG003OF",
         "Judge No.9",
         "Jeff LUKASIK",
         "Canada"
        ],
        [
         "27",
         "fc2025SEG004OF",
         "Judge No.1",
         "Weiguang CHEN",
         "China"
        ],
        [
         "28",
         "fc2025SEG004OF",
         "Judge No.2",
         "Neil GARRARD",
         "South Africa"
        ],
        [
         "29",
         "fc2025SEG004OF",
         "Judge No.3",
         "Jeff LUKASIK",
         "Canada"
        ],
        [
         "30",
         "fc2025SEG004OF",
         "Judge No.4",
         "Nobuhiko YOSHIOKA",
         "Japan"
        ],
        [
         "31",
         "fc2025SEG004OF",
         "Judge No.5",
         "Elizabeth ALEXANDRE",
         "Australia"
        ],
        [
         "32",
         "fc2025SEG004OF",
         "Judge No.6",
         "Anne CAMMETT",
         "USA"
        ],
        [
         "33",
         "fc2025SEG004OF",
         "Judge No.7",
         "Sung Hee KOH",
         "South Korea"
        ],
        [
         "34",
         "fc2025SEG004OF",
         "Judge No.8",
         "Sasha MARTINEZ",
         "Mexico"
        ],
        [
         "35",
         "fc2025SEG004OF",
         "Judge No.9",
         "Marina BESCHEA",
         "Romania"
        ],
        [
         "36",
         "ec2025SEG001OF",
         "Judge No.1",
         "Ludwig CZOCZEK",
         "Germany"
        ],
        [
         "37",
         "ec2025SEG001OF",
         "Judge No.2",
         "Marjo KANKAANRANTA",
         "Finland"
        ],
        [
         "38",
         "ec2025SEG001OF",
         "Judge No.3",
         "Salome CHIGOGIDZE",
         "Georgia"
        ],
        [
         "39",
         "ec2025SEG001OF",
         "Judge No.4",
         "Agnieszka SWIDERSKA",
         "Poland"
        ],
        [
         "40",
         "ec2025SEG001OF",
         "Judge No.5",
         "Andrea SIMANCIKOVA",
         "Slovakia"
        ],
        [
         "41",
         "ec2025SEG001OF",
         "Judge No.6",
         "Ebru ANILDI",
         "Turkey"
        ],
        [
         "42",
         "ec2025SEG001OF",
         "Judge No.7",
         "Agita ABELE",
         "Latvia"
        ],
        [
         "43",
         "ec2025SEG001OF",
         "Judge No.8",
         "Daniel DELFA",
         "Spain"
        ],
        [
         "44",
         "ec2025SEG001OF",
         "Judge No.9",
         "Vera TAUCHMANOVA",
         "Czech Republic"
        ],
        [
         "45",
         "ec2025SEG002OF",
         "Judge No.1",
         "Karin EHRHARDT",
         "Austria"
        ],
        [
         "46",
         "ec2025SEG002OF",
         "Judge No.2",
         "Vera TAUCHMANOVA",
         "Czech Republic"
        ],
        [
         "47",
         "ec2025SEG002OF",
         "Judge No.3",
         "Ludwig CZOCZEK",
         "Germany"
        ],
        [
         "48",
         "ec2025SEG002OF",
         "Judge No.4",
         "Marco BUTTARELLI",
         "Italy"
        ],
        [
         "49",
         "ec2025SEG002OF",
         "Judge No.5",
         "Andrea SIMANCIKOVA",
         "Slovakia"
        ]
       ],
       "shape": {
        "columns": 4,
        "rows": 1688
       }
      },
      "text/html": [
       "<div>\n",
       "<style scoped>\n",
       "    .dataframe tbody tr th:only-of-type {\n",
       "        vertical-align: middle;\n",
       "    }\n",
       "\n",
       "    .dataframe tbody tr th {\n",
       "        vertical-align: top;\n",
       "    }\n",
       "\n",
       "    .dataframe thead th {\n",
       "        text-align: right;\n",
       "    }\n",
       "</style>\n",
       "<table border=\"1\" class=\"dataframe\">\n",
       "  <thead>\n",
       "    <tr style=\"text-align: right;\">\n",
       "      <th></th>\n",
       "      <th>competition</th>\n",
       "      <th>role</th>\n",
       "      <th>judge</th>\n",
       "      <th>country</th>\n",
       "    </tr>\n",
       "  </thead>\n",
       "  <tbody>\n",
       "    <tr>\n",
       "      <th>0</th>\n",
       "      <td>fc2025SEG001OF</td>\n",
       "      <td>Judge No.1</td>\n",
       "      <td>Jung Sue LEE</td>\n",
       "      <td>South Korea</td>\n",
       "    </tr>\n",
       "    <tr>\n",
       "      <th>1</th>\n",
       "      <td>fc2025SEG001OF</td>\n",
       "      <td>Judge No.2</td>\n",
       "      <td>Ariadna MORONES NEGRETE</td>\n",
       "      <td>Mexico</td>\n",
       "    </tr>\n",
       "    <tr>\n",
       "      <th>2</th>\n",
       "      <td>fc2025SEG001OF</td>\n",
       "      <td>Judge No.3</td>\n",
       "      <td>Saodat NUMANOVA</td>\n",
       "      <td>Uzbekistan</td>\n",
       "    </tr>\n",
       "    <tr>\n",
       "      <th>3</th>\n",
       "      <td>fc2025SEG001OF</td>\n",
       "      <td>Judge No.4</td>\n",
       "      <td>Joanna MILLER</td>\n",
       "      <td>Australia</td>\n",
       "    </tr>\n",
       "    <tr>\n",
       "      <th>4</th>\n",
       "      <td>fc2025SEG001OF</td>\n",
       "      <td>Judge No.5</td>\n",
       "      <td>Mami MAEDA</td>\n",
       "      <td>Japan</td>\n",
       "    </tr>\n",
       "    <tr>\n",
       "      <th>...</th>\n",
       "      <td>...</td>\n",
       "      <td>...</td>\n",
       "      <td>...</td>\n",
       "      <td>...</td>\n",
       "    </tr>\n",
       "    <tr>\n",
       "      <th>1683</th>\n",
       "      <td>gprus2019SEG004OF</td>\n",
       "      <td>Judge No.5</td>\n",
       "      <td>Miwako ANDO</td>\n",
       "      <td>Japan</td>\n",
       "    </tr>\n",
       "    <tr>\n",
       "      <th>1684</th>\n",
       "      <td>gprus2019SEG004OF</td>\n",
       "      <td>Judge No.6</td>\n",
       "      <td>Helene CUCUPHAT</td>\n",
       "      <td>France</td>\n",
       "    </tr>\n",
       "    <tr>\n",
       "      <th>1685</th>\n",
       "      <td>gprus2019SEG004OF</td>\n",
       "      <td>Judge No.7</td>\n",
       "      <td>Sviatoslav BABENKO</td>\n",
       "      <td>Russia</td>\n",
       "    </tr>\n",
       "    <tr>\n",
       "      <th>1686</th>\n",
       "      <td>gprus2019SEG004OF</td>\n",
       "      <td>Judge No.8</td>\n",
       "      <td>Yury KLIUSHNIKOV</td>\n",
       "      <td>Azerbaijan</td>\n",
       "    </tr>\n",
       "    <tr>\n",
       "      <th>1687</th>\n",
       "      <td>gprus2019SEG004OF</td>\n",
       "      <td>Judge No.9</td>\n",
       "      <td>Donatella LEONELLI</td>\n",
       "      <td>Switzerland</td>\n",
       "    </tr>\n",
       "  </tbody>\n",
       "</table>\n",
       "<p>1688 rows × 4 columns</p>\n",
       "</div>"
      ],
      "text/plain": [
       "            competition        role                    judge      country\n",
       "0        fc2025SEG001OF  Judge No.1             Jung Sue LEE  South Korea\n",
       "1        fc2025SEG001OF  Judge No.2  Ariadna MORONES NEGRETE       Mexico\n",
       "2        fc2025SEG001OF  Judge No.3          Saodat NUMANOVA   Uzbekistan\n",
       "3        fc2025SEG001OF  Judge No.4            Joanna MILLER    Australia\n",
       "4        fc2025SEG001OF  Judge No.5               Mami MAEDA        Japan\n",
       "...                 ...         ...                      ...          ...\n",
       "1683  gprus2019SEG004OF  Judge No.5              Miwako ANDO        Japan\n",
       "1684  gprus2019SEG004OF  Judge No.6          Helene CUCUPHAT       France\n",
       "1685  gprus2019SEG004OF  Judge No.7       Sviatoslav BABENKO       Russia\n",
       "1686  gprus2019SEG004OF  Judge No.8         Yury KLIUSHNIKOV   Azerbaijan\n",
       "1687  gprus2019SEG004OF  Judge No.9       Donatella LEONELLI  Switzerland\n",
       "\n",
       "[1688 rows x 4 columns]"
      ]
     },
     "execution_count": 8,
     "metadata": {},
     "output_type": "execute_result"
    }
   ],
   "source": [
    "merged"
   ]
  },
  {
   "cell_type": "code",
   "execution_count": 9,
   "metadata": {},
   "outputs": [],
   "source": [
    "for idx, val in merged.iterrows():\n",
    "    if 'gpf1920' in val['competition']:\n",
    "        merged.at[idx, 'competition'] = val['competition'].replace('gpf1920', 'gpf2019')\n"
   ]
  },
  {
   "cell_type": "code",
   "execution_count": 10,
   "metadata": {},
   "outputs": [],
   "source": [
    "base_dir = os.path.dirname(os.getcwd()) \n",
    "file_path = os.path.join(base_dir, 'csv files', 'Judge_Comp_Nat.csv')\n",
    "\n",
    "merged.to_csv(file_path, index=False)"
   ]
  }
 ],
 "metadata": {
  "kernelspec": {
   "display_name": "Python 3",
   "language": "python",
   "name": "python3"
  },
  "language_info": {
   "codemirror_mode": {
    "name": "ipython",
    "version": 3
   },
   "file_extension": ".py",
   "mimetype": "text/x-python",
   "name": "python",
   "nbconvert_exporter": "python",
   "pygments_lexer": "ipython3",
   "version": "3.10.11"
  }
 },
 "nbformat": 4,
 "nbformat_minor": 2
}
