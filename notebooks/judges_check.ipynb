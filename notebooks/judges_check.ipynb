{
 "cells": [
  {
   "cell_type": "code",
   "execution_count": 39,
   "metadata": {},
   "outputs": [],
   "source": [
    "import os\n",
    "import pandas as pd"
   ]
  },
  {
   "cell_type": "code",
   "execution_count": 40,
   "metadata": {},
   "outputs": [],
   "source": [
    "base_dir = os.path.dirname(os.getcwd()) \n",
    "judges_path = os.path.join(base_dir, 'csv files', 'Judge_Panel.csv')\n",
    "officials_path = os.path.join(base_dir, 'csv files', 'Official_Country.csv')"
   ]
  },
  {
   "cell_type": "code",
   "execution_count": 41,
   "metadata": {},
   "outputs": [],
   "source": [
    "judges_panel = pd.read_csv(judges_path)\n",
    "official_country = pd.read_csv(officials_path)"
   ]
  },
  {
   "cell_type": "code",
   "execution_count": 42,
   "metadata": {},
   "outputs": [],
   "source": [
    "merged = pd.merge(judges_panel, official_country, left_on='judge', right_on='official', how='left').drop(columns='official')\n",
    "empty_names = merged[merged['country'].isna()]"
   ]
  },
  {
   "cell_type": "code",
   "execution_count": 43,
   "metadata": {},
   "outputs": [
    {
     "name": "stdout",
     "output_type": "stream",
     "text": [
      "Jung Sue LEE gpjpn2024SEG003OF\n",
      "Sung Hee KOH wc2023data0230\n",
      "Sasha MARTINEZ fc2024SEG003OF\n",
      "Akos PETHES wc2025SEG002OF\n",
      "Hege Rosto JENSEN wc2025SEG003OF\n",
      "Francoise de RAPPARD gpfra2022SEG003OF\n",
      "Katalin BALCZO gpusa2024SEG001OF\n",
      "Antony GREVISSE gpusa2024SEG004OF\n",
      "Virginia de AGOSTINI gpcan2024SEG001OF\n",
      "Daniella KARSIJNS gpcan2024SEG004OF\n",
      "Kyung Won SAKONG gpfra2024SEG003OF\n",
      "Attila SOOS wc2022SEG004OF\n",
      "So Young AN gpfra2021SEG004OF\n",
      "Ann MUESING gpjpn2023data0230\n",
      "Iryna MEDVEDIEVA gpf2024SEG003OF\n",
      "Katherine Evelyn du PREEZ gpfin2022SEG003OF\n",
      "Helene CUCUPHAT wc2024SEG002OF\n",
      "Pernilla BOHLING gpjpn2021data0150\n",
      "Asa NORDBACK gpfin2023SEG002OF\n",
      "Lovorka KODRIN wc2024SEG002OF\n",
      "Zsuzsanna VIKARNE-HOMOLYA gpusa2021SEG004OF\n",
      "Lise Rosto JENSEN ec2020SEG001OF\n",
      "Nicole van GERWEN-MAAS gpusa2023SEG003OF\n",
      "Eva SZILAGYI gpcan2023SEG003OF\n",
      "Karen Anne HARRIS gpcan2023SEG003OF\n",
      "Hans-Ulrich LUETHI gpfra2023SEG004OF\n",
      "Merilyn VEKEMANS-van DUPPEN gpjpn2023data0250\n",
      "Allan BOEHM gpf2023SEG003OF\n",
      "Almila ARIKAN SARBANOGLU fc2023SEG003OF\n",
      "Lisa DAVIDSON ec2023SEG002OF\n",
      "Adrienn SCHADENBAUER wc2023data0150\n",
      "Yuriy GUSKOV gprus2021SEG004OF\n",
      "Halina GORDON POLTORAK gpjpn2022data0250\n",
      "Lolita LABUNSKAIYA gpita2021SEG003OF\n",
      "David MUNOZ gpcan2019SEG001OF\n",
      "Tanay OZKAN SILAOGLU gpfra2021SEG002OF\n",
      "Polina YAKOBS gprus2021SEG003OF\n",
      "Stefanie SCHMID MATHEWSON gpcan2019SEG002OF\n",
      "Maria GRIBONOSOVA-GREBNEVA gpcan2019SEG002OF\n"
     ]
    }
   ],
   "source": [
    "missing = empty_names['judge'].unique()\n",
    "\n",
    "for item in missing:\n",
    "    comp = empty_names[empty_names['judge'] == item]['competition'].sample(1).iloc[0]\n",
    "    print(item, comp)"
   ]
  },
  {
   "cell_type": "code",
   "execution_count": 44,
   "metadata": {},
   "outputs": [],
   "source": [
    "missing_judges_dict = {\n",
    "    \"Jung Sue LEE\": \"South Korea\",\n",
    "    \"Sung Hee KOH\": \"South Korea\",\n",
    "    \"Sasha MARTINEZ\": \"Mexico\",\n",
    "    \"Akos PETHES\": \"Hungary\",\n",
    "    \"Hege Rosto JENSEN\": \"Norway\",\n",
    "    \"Francoise de RAPPARD\": \"Belgium\",\n",
    "    \"Katalin BALCZO\": \"Hungary\",\n",
    "    \"Antony GREVISSE\": \"Belgium\",\n",
    "    \"Virginia de AGOSTINI\": \"Italy\",\n",
    "    \"Daniella KARSIJNS\": \"Netherlands\",\n",
    "    \"Kyung Won SAKONG\": \"South Korea\",\n",
    "    \"Attila SOOS\": \"Hungary\",\n",
    "    \"So Young AN\": \"South Korea\",\n",
    "    \"Ann MUESING\": \"Belgium\",\n",
    "    \"Iryna MEDVEDIEVA\": \"Ukraine\",\n",
    "    \"Katherine Evelyn du PREEZ\": \"Autralia\",\n",
    "    \"Helene CUCUPHAT\": \"France\",\n",
    "    \"Pernilla BOHLING\": \"Finland\",\n",
    "    \"Asa NORDBACK\": \"Sweden\",\n",
    "    \"Lovorka KODRIN\": \"Croatia\",\n",
    "    \"Zsuzsanna VIKARNE-HOMOLYA\": \"Hungary\",\n",
    "    \"Lise Rosto JENSEN\": \"Norway\",\n",
    "    \"Nicole van GERWEN-MAAS\": \"Netherlands\",\n",
    "    \"Eva SZILAGYI\": \"Hungary\",\n",
    "    \"Karen Anne HARRIS\": \"Australia\",\n",
    "    \"Hans-Ulrich LUETHI\": \"Switzerland\",\n",
    "    \"Merilyn VEKEMANS-van DUPPEN\": \"Netherlands\",\n",
    "    \"Allan BOEHM\": \"Slovakia\",\n",
    "    \"Almila ARIKAN SARBANOGLU\": \"Great Britan\",\n",
    "    \"Lisa DAVIDSON\": \"Great Britan\",\n",
    "    \"Adrienn SCHADENBAUER\": \"Austria\",\n",
    "    \"Yuriy GUSKOV\": \"Kazakhstan\",\n",
    "    \"Halina GORDON POLTORAK\": \"Poland\",\n",
    "    \"Lolita LABUNSKAIYA\": \"Russia\",\n",
    "    \"David MUNOZ\": \"Estonia\",\n",
    "    \"Tanay OZKAN SILAOGLU\": \"Turkey\",\n",
    "    \"Polina YAKOBS\": \"Russia\"\n",
    "}"
   ]
  },
  {
   "cell_type": "code",
   "execution_count": 45,
   "metadata": {},
   "outputs": [],
   "source": [
    "for name in missing_judges_dict.keys():\n",
    "    merged.loc[merged['judge'] == name, 'country'] = missing_judges_dict[name]"
   ]
  },
  {
   "cell_type": "code",
   "execution_count": 46,
   "metadata": {},
   "outputs": [],
   "source": [
    "base_dir = os.path.dirname(os.getcwd()) \n",
    "file_path = os.path.join(base_dir, 'csv files', 'Judge_Comp_Nat.csv')\n",
    "\n",
    "merged.to_csv(file_path, index=False)"
   ]
  }
 ],
 "metadata": {
  "kernelspec": {
   "display_name": "Python 3",
   "language": "python",
   "name": "python3"
  },
  "language_info": {
   "codemirror_mode": {
    "name": "ipython",
    "version": 3
   },
   "file_extension": ".py",
   "mimetype": "text/x-python",
   "name": "python",
   "nbconvert_exporter": "python",
   "pygments_lexer": "ipython3",
   "version": "3.10.11"
  }
 },
 "nbformat": 4,
 "nbformat_minor": 2
}
