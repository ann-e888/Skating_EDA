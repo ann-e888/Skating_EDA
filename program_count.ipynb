{
 "cells": [
  {
   "cell_type": "code",
   "execution_count": 1,
   "metadata": {},
   "outputs": [],
   "source": [
    "import numpy as np\n",
    "import pandas as pd\n",
    "import matplotlib.pyplot as plt\n",
    "import seaborn as sns\n",
    "\n",
    "sns.set_theme()"
   ]
  },
  {
   "cell_type": "code",
   "execution_count": 2,
   "metadata": {},
   "outputs": [],
   "source": [
    "competition_results = pd.read_csv('csv files/Competition_Results.csv')"
   ]
  },
  {
   "cell_type": "code",
   "execution_count": 3,
   "metadata": {},
   "outputs": [
    {
     "data": {
      "text/plain": [
       "{'men_short': 3731, 'men_free': 5820, 'women_short': 3472, 'women_free': 5856}"
      ]
     },
     "execution_count": 3,
     "metadata": {},
     "output_type": "execute_result"
    }
   ],
   "source": [
    "program_count = {\n",
    "    'men_short' : 0,\n",
    "    'men_free' : 0,\n",
    "    'women_short' : 0,\n",
    "    'women_free' : 0\n",
    "}\n",
    "\n",
    "for competition in competition_results['competition']:\n",
    "    if 'SEG001' in competition or 'data0130' in competition:\n",
    "        program_count['men_short'] += 1\n",
    "    elif 'SEG002' in competition or 'data0150' in competition:\n",
    "        program_count['men_free'] += 1\n",
    "    elif 'SEG003' in competition or 'data0230' in competition:\n",
    "        program_count['women_short'] += 1\n",
    "    elif 'SEG004' in competition or 'data0250' in competition:\n",
    "        program_count['women_free'] += 1\n",
    "\n",
    "program_count\n",
    "    "
   ]
  },
  {
   "cell_type": "code",
   "execution_count": 4,
   "metadata": {},
   "outputs": [],
   "source": [
    "pc_copy = program_count.copy()\n",
    "\n",
    "\n",
    "for val in pc_copy.keys():\n",
    "    if 'short' in val:\n",
    "        pc_copy[val] = pc_copy[val] // 7\n",
    "    else:\n",
    "        pc_copy[val] = pc_copy[val] // 12\n",
    "        "
   ]
  },
  {
   "cell_type": "code",
   "execution_count": 5,
   "metadata": {},
   "outputs": [],
   "source": [
    "label_map = {\n",
    "    \"men_short\": \"Program krótki mężczyzn\",\n",
    "    \"men_free\": \"Program dowolny mężczyzn\",\n",
    "    \"women_short\": \"Program krótki kobiet\",\n",
    "    \"women_free\": \"Program dowolny kobiet\"\n",
    "}"
   ]
  },
  {
   "cell_type": "code",
   "execution_count": 6,
   "metadata": {},
   "outputs": [
    {
     "data": {
      "application/vnd.microsoft.datawrangler.viewer.v0+json": {
       "columns": [
        {
         "name": "index",
         "rawType": "int64",
         "type": "integer"
        },
        {
         "name": "Typ programu",
         "rawType": "object",
         "type": "string"
        },
        {
         "name": "Liczba obserwacji",
         "rawType": "int64",
         "type": "integer"
        }
       ],
       "conversionMethod": "pd.DataFrame",
       "ref": "e5283e38-2587-4fcd-9591-0a051ee280bd",
       "rows": [
        [
         "0",
         "Program krótki mężczyzn",
         "533"
        ],
        [
         "1",
         "Program dowolny mężczyzn",
         "485"
        ],
        [
         "2",
         "Program krótki kobiet",
         "496"
        ],
        [
         "3",
         "Program dowolny kobiet",
         "488"
        ]
       ],
       "shape": {
        "columns": 2,
        "rows": 4
       }
      },
      "text/html": [
       "<div>\n",
       "<style scoped>\n",
       "    .dataframe tbody tr th:only-of-type {\n",
       "        vertical-align: middle;\n",
       "    }\n",
       "\n",
       "    .dataframe tbody tr th {\n",
       "        vertical-align: top;\n",
       "    }\n",
       "\n",
       "    .dataframe thead th {\n",
       "        text-align: right;\n",
       "    }\n",
       "</style>\n",
       "<table border=\"1\" class=\"dataframe\">\n",
       "  <thead>\n",
       "    <tr style=\"text-align: right;\">\n",
       "      <th></th>\n",
       "      <th>Typ programu</th>\n",
       "      <th>Liczba obserwacji</th>\n",
       "    </tr>\n",
       "  </thead>\n",
       "  <tbody>\n",
       "    <tr>\n",
       "      <th>0</th>\n",
       "      <td>Program krótki mężczyzn</td>\n",
       "      <td>533</td>\n",
       "    </tr>\n",
       "    <tr>\n",
       "      <th>1</th>\n",
       "      <td>Program dowolny mężczyzn</td>\n",
       "      <td>485</td>\n",
       "    </tr>\n",
       "    <tr>\n",
       "      <th>2</th>\n",
       "      <td>Program krótki kobiet</td>\n",
       "      <td>496</td>\n",
       "    </tr>\n",
       "    <tr>\n",
       "      <th>3</th>\n",
       "      <td>Program dowolny kobiet</td>\n",
       "      <td>488</td>\n",
       "    </tr>\n",
       "  </tbody>\n",
       "</table>\n",
       "</div>"
      ],
      "text/plain": [
       "               Typ programu  Liczba obserwacji\n",
       "0   Program krótki mężczyzn                533\n",
       "1  Program dowolny mężczyzn                485\n",
       "2     Program krótki kobiet                496\n",
       "3    Program dowolny kobiet                488"
      ]
     },
     "execution_count": 6,
     "metadata": {},
     "output_type": "execute_result"
    }
   ],
   "source": [
    "df = pd.DataFrame(pc_copy.items(), columns=['Typ programu', 'Liczba obserwacji'])\n",
    "df['Typ programu'] = df['Typ programu'].map(label_map)\n",
    "df"
   ]
  },
  {
   "cell_type": "code",
   "execution_count": 7,
   "metadata": {},
   "outputs": [
    {
     "data": {
      "image/png": "[encoded data removed]",
      "text/plain": [
       "<Figure size 600x200 with 1 Axes>"
      ]
     },
     "metadata": {},
     "output_type": "display_data"
    }
   ],
   "source": [
    "fig, ax = plt.subplots(figsize=(6, 2))  \n",
    "ax.axis('off')  \n",
    "\n",
    "\n",
    "table = ax.table(\n",
    "    cellText=df.values,\n",
    "    colLabels=['Typ programu', 'Liczba obserwacji'],\n",
    "    loc='center',\n",
    "    cellLoc='center',\n",
    "    colLoc='center'\n",
    ")\n",
    "\n",
    "for key, cell in table.get_celld().items():\n",
    "    cell.set_text_props(color='black')       \n",
    "    cell.set_edgecolor('black')\n",
    "\n",
    "\n",
    "table.auto_set_font_size(False)\n",
    "table.set_fontsize(12)\n",
    "table.scale(1, 2)\n",
    "\n",
    "plt.show()"
   ]
  }
 ],
 "metadata": {
  "kernelspec": {
   "display_name": "Python 3",
   "language": "python",
   "name": "python3"
  },
  "language_info": {
   "codemirror_mode": {
    "name": "ipython",
    "version": 3
   },
   "file_extension": ".py",
   "mimetype": "text/x-python",
   "name": "python",
   "nbconvert_exporter": "python",
   "pygments_lexer": "ipython3",
   "version": "3.10.11"
  }
 },
 "nbformat": 4,
 "nbformat_minor": 2
}
