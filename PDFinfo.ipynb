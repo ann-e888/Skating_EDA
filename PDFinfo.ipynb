{
  "nbformat": 4,
  "nbformat_minor": 0,
  "metadata": {
    "colab": {
      "provenance": [],
      "authorship_tag": "ABX9TyNanI1wmBBmJ0jvNSC2BJ7e",
      "include_colab_link": true
    },
    "kernelspec": {
      "name": "python3",
      "display_name": "Python 3"
    },
    "language_info": {
      "name": "python"
    }
  },
  "cells": [
    {
      "cell_type": "markdown",
      "metadata": {
        "id": "view-in-github",
        "colab_type": "text"
      },
      "source": [
        "<a href=\"https://colab.research.google.com/github/ann-e888/Skating_EDA/blob/main/PDFinfo.ipynb\" target=\"_parent\"><img src=\"https://colab.research.google.com/assets/colab-badge.svg\" alt=\"Open In Colab\"/></a>"
      ]
    },
    {
      "cell_type": "code",
      "execution_count": 1,
      "metadata": {
        "colab": {
          "base_uri": "https://localhost:8080/"
        },
        "id": "WkGFncaMOEqI",
        "outputId": "fede2308-3203-4f86-d270-e2e7f6e7cf8b",
        "collapsed": true
      },
      "outputs": [
        {
          "output_type": "stream",
          "name": "stdout",
          "text": [
            "Collecting pdfplumber\n",
            "  Downloading pdfplumber-0.11.5-py3-none-any.whl.metadata (42 kB)\n",
            "\u001b[?25l     \u001b[90m━━━━━━━━━━━━━━━━━━━━━━━━━━━━━━━━━━━━━━━━\u001b[0m \u001b[32m0.0/42.5 kB\u001b[0m \u001b[31m?\u001b[0m eta \u001b[36m-:--:--\u001b[0m\r\u001b[2K     \u001b[90m━━━━━━━━━━━━━━━━━━━━━━━━━━━━━━━━━━━━━━━━\u001b[0m \u001b[32m42.5/42.5 kB\u001b[0m \u001b[31m2.4 MB/s\u001b[0m eta \u001b[36m0:00:00\u001b[0m\n",
            "\u001b[?25hCollecting pdfminer.six==20231228 (from pdfplumber)\n",
            "  Downloading pdfminer.six-20231228-py3-none-any.whl.metadata (4.2 kB)\n",
            "Requirement already satisfied: Pillow>=9.1 in /usr/local/lib/python3.11/dist-packages (from pdfplumber) (11.1.0)\n",
            "Collecting pypdfium2>=4.18.0 (from pdfplumber)\n",
            "  Downloading pypdfium2-4.30.1-py3-none-manylinux_2_17_x86_64.manylinux2014_x86_64.whl.metadata (48 kB)\n",
            "\u001b[2K     \u001b[90m━━━━━━━━━━━━━━━━━━━━━━━━━━━━━━━━━━━━━━━━\u001b[0m \u001b[32m48.2/48.2 kB\u001b[0m \u001b[31m3.3 MB/s\u001b[0m eta \u001b[36m0:00:00\u001b[0m\n",
            "\u001b[?25hRequirement already satisfied: charset-normalizer>=2.0.0 in /usr/local/lib/python3.11/dist-packages (from pdfminer.six==20231228->pdfplumber) (3.4.1)\n",
            "Requirement already satisfied: cryptography>=36.0.0 in /usr/local/lib/python3.11/dist-packages (from pdfminer.six==20231228->pdfplumber) (43.0.3)\n",
            "Requirement already satisfied: cffi>=1.12 in /usr/local/lib/python3.11/dist-packages (from cryptography>=36.0.0->pdfminer.six==20231228->pdfplumber) (1.17.1)\n",
            "Requirement already satisfied: pycparser in /usr/local/lib/python3.11/dist-packages (from cffi>=1.12->cryptography>=36.0.0->pdfminer.six==20231228->pdfplumber) (2.22)\n",
            "Downloading pdfplumber-0.11.5-py3-none-any.whl (59 kB)\n",
            "\u001b[2K   \u001b[90m━━━━━━━━━━━━━━━━━━━━━━━━━━━━━━━━━━━━━━━━\u001b[0m \u001b[32m59.5/59.5 kB\u001b[0m \u001b[31m4.2 MB/s\u001b[0m eta \u001b[36m0:00:00\u001b[0m\n",
            "\u001b[?25hDownloading pdfminer.six-20231228-py3-none-any.whl (5.6 MB)\n",
            "\u001b[2K   \u001b[90m━━━━━━━━━━━━━━━━━━━━━━━━━━━━━━━━━━━━━━━━\u001b[0m \u001b[32m5.6/5.6 MB\u001b[0m \u001b[31m64.0 MB/s\u001b[0m eta \u001b[36m0:00:00\u001b[0m\n",
            "\u001b[?25hDownloading pypdfium2-4.30.1-py3-none-manylinux_2_17_x86_64.manylinux2014_x86_64.whl (2.9 MB)\n",
            "\u001b[2K   \u001b[90m━━━━━━━━━━━━━━━━━━━━━━━━━━━━━━━━━━━━━━━━\u001b[0m \u001b[32m2.9/2.9 MB\u001b[0m \u001b[31m70.6 MB/s\u001b[0m eta \u001b[36m0:00:00\u001b[0m\n",
            "\u001b[?25hInstalling collected packages: pypdfium2, pdfminer.six, pdfplumber\n",
            "Successfully installed pdfminer.six-20231228 pdfplumber-0.11.5 pypdfium2-4.30.1\n"
          ]
        }
      ],
      "source": [
        "!pip install pdfplumber\n",
        "\n",
        "import pdfplumber"
      ]
    },
    {
      "cell_type": "code",
      "source": [
        "import ast\n",
        "import re\n",
        "\n",
        "import pandas as pd\n",
        "import numpy as np\n",
        "import matplotlib.pyplot as plt\n",
        "import seaborn as sns\n",
        "\n",
        "sns.set()"
      ],
      "metadata": {
        "id": "Qiq8UJtyz970"
      },
      "execution_count": 2,
      "outputs": []
    },
    {
      "cell_type": "code",
      "source": [
        "with pdfplumber.open('men_short_euros.pdf') as f:\n",
        "  tables = [page.extract_tables() for page in f.pages]"
      ],
      "metadata": {
        "id": "VPT-VTuvzbbK"
      },
      "execution_count": 3,
      "outputs": []
    },
    {
      "cell_type": "code",
      "source": [
        "single_entries = [x for page in tables for x in page]"
      ],
      "metadata": {
        "collapsed": true,
        "id": "VkRZsFbX7V2b"
      },
      "execution_count": 4,
      "outputs": []
    },
    {
      "cell_type": "code",
      "source": [
        "first_to_remove = 'Total Total\\nStarting Total Program Component\\nRank Name Nation Segment Element Total Deductions\\nNumber Score (factored)\\nScore Score\\n'\n",
        "second_to_remove = '# Executed Elements ofnI Base Scores of GOE J1 J2 J3 J4 J5 J6 J7 J8 J9 Ref.\\nValue Panel'\n",
        "third_to_remove = 'Deductions: '\n",
        "\n",
        "for i in range(len(single_entries)):\n",
        "    single_entries[i][0][0] = single_entries[i][0][0].replace(first_to_remove, '')\n",
        "    single_entries[i][1][0] = single_entries[i][1][0].replace(second_to_remove, '')\n",
        "    single_entries[i][2][0] = single_entries[i][2][0].replace(third_to_remove, '')"
      ],
      "metadata": {
        "id": "jkiL9pUoddNB"
      },
      "execution_count": 5,
      "outputs": []
    },
    {
      "cell_type": "code",
      "source": [
        "for index, skater in enumerate(single_entries):\n",
        "  if index < 6:\n",
        "    print(f\"Skater {index+1}: {skater}\\n\")"
      ],
      "metadata": {
        "colab": {
          "base_uri": "https://localhost:8080/"
        },
        "id": "x6EorN927EqU",
        "outputId": "66873b34-9589-43be-92c1-b49603312ab9",
        "collapsed": true
      },
      "execution_count": 6,
      "outputs": [
        {
          "output_type": "stream",
          "name": "stdout",
          "text": [
            "Skater 1: [['1 Adam SIAO HIM FA FRA 34 93.12 49.58 43.54 0.00'], ['\\n1 4T+3Tq q 13.70 -1.49 -1 -2 -3 -1 -1 1 -3 -1 -2 12.21\\n2 4S 9.70 -0.83 0 1 -1 -1 -1 0 -2 -1 -2 8.87\\n3 CCoSp4 3.50 0.90 2 3 3 2 3 3 2 2 3 4.40\\n4 3A 8.80 x 2.06 3 2 2 3 3 2 3 2 3 10.86\\n5 StSq4 3.90 1.84 4 5 3 4 5 5 5 5 5 5.74\\n6 FCSp3 2.80 0.76 3 1 2 3 3 3 2 3 3 3.56\\n7 CSSp4 3.00 0.94 3 3 3 2 3 3 4 5 3 3.94\\n45.40 49.58\\nProgram Components Factor\\nComposition 1.67 8.75 9.00 8.50 8.50 9.00 8.75 8.50 9.25 8.50 8.71\\nPresentation 1.67 9.00 8.75 8.25 8.75 8.75 8.50 8.25 9.25 8.25 8.61\\nSkating Skills 1.67 8.75 8.75 8.50 8.75 9.25 8.75 8.50 9.50 8.50 8.75\\nJudges Total Program Component Score (factored) 43.54'], ['0.00']]\n",
            "\n",
            "Skater 2: [['2 Nika EGADZE GEO 29 91.94 53.17 38.77 0.00'], ['\\n1 4S+3T 13.90 1.94 2 2 2 1 2 2 3 2 2 15.84\\n2 4T 9.50 2.44 1 3 3 1 4 2 3 3 3 11.94\\n3 FCSp3 2.80 0.36 2 2 1 1 1 1 1 1 2 3.16\\n4 3A 8.80 x 1.71 2 2 2 2 3 3 2 1 2 10.51\\n5 CSSp4 3.00 -0.13 0 0 1 1 -2 -1 -1 -2 0 2.87\\n6 StSq4 3.90 1.00 3 3 2 2 2 3 3 3 2 4.90\\n7 CCoSp4 3.50 0.45 2 2 2 1 1 0 0 1 2 3.95\\n45.40 53.17\\nProgram Components Factor\\nComposition 1.67 7.50 7.75 8.00 7.25 7.50 7.00 8.25 8.00 8.00 7.71\\nPresentation 1.67 7.75 8.25 7.75 7.50 6.75 7.00 8.00 7.75 8.00 7.68\\nSkating Skills 1.67 7.50 7.75 8.00 7.75 7.75 7.50 8.00 8.50 8.00 7.82\\nJudges Total Program Component Score (factored) 38.77'], ['0.00']]\n",
            "\n",
            "Skater 3: [['3 Vladimir SAMOILOV POL 24 85.98 48.63 37.35 0.00'], ['\\n1 4S 9.70 3.46 3 4 3 2 4 3 4 4 4 13.16\\n2 3A 8.00 1.60 2 2 2 1 2 2 2 2 2 9.60\\n3 CCSp4 3.20 0.82 2 3 2 2 3 2 3 3 3 4.02\\n4 3Lz!+3T ! 11.11 x 0.00 0 0 -1 0 1 1 -1 0 0 11.11\\n5 FSSp3 2.60 0.33 1 2 1 1 2 1 1 1 2 2.93\\n6 StSq3 3.30 0.61 2 3 1 1 2 2 2 2 2 3.91\\n7 CCoSp3 3.00 0.90 3 3 3 2 3 3 4 3 3 3.90\\n40.91 48.63\\nProgram Components Factor\\nComposition 1.67 7.50 7.75 7.25 7.50 6.00 7.25 7.50 7.50 7.00 7.36\\nPresentation 1.67 7.75 8.00 7.25 7.50 6.75 7.25 7.50 7.75 7.50 7.50\\nSkating Skills 1.67 7.50 7.75 7.50 7.75 7.25 7.00 7.75 8.00 7.00 7.50\\nJudges Total Program Component Score (factored) 37.35'], ['0.00']]\n",
            "\n",
            "Skater 4: [['4 Matteo RIZZO ITA 32 85.68 44.42 41.26 0.00'], ['\\n1 4T 9.50 2.85 3 4 3 2 4 3 3 2 3 12.35\\n2 3Lz!+3T ! 10.10 0.25 0 1 -1 0 1 1 0 1 0 10.35\\n3 CCSp3 2.80 0.32 1 -1 1 2 2 2 0 1 1 3.12\\n4 3A 8.80 x -2.51 -3 -4 -4 -3 -3 -3 -3 -2 -3 6.29\\n5 CCoSp3 3.00 0.51 3 -1 2 3 4 0 1 1 2 3.51\\n6 StSq4 3.90 1.39 4 3 2 3 4 4 4 5 3 5.29\\n7 FSSp4 3.00 0.51 1 2 2 3 2 2 1 2 1 3.51\\n41.10 44.42\\nProgram Components Factor\\nComposition 1.67 8.50 8.25 8.00 8.50 7.75 8.00 8.00 9.00 7.75 8.14\\nPresentation 1.67 8.75 8.50 7.50 8.75 8.25 8.00 8.25 8.75 8.00 8.36\\nSkating Skills 1.67 8.50 8.25 8.00 8.50 8.25 8.00 8.00 9.25 8.00 8.21\\nJudges Total Program Component Score (factored) 41.26'], ['0.00']]\n",
            "\n",
            "Skater 5: [['5 Nikolaj MEMOLA ITA 28 84.92 46.99 37.93 0.00'], ['\\n1 4Lz! ! 11.50 0.82 0 2 0 0 2 1 1 0 1 12.32\\n2 3A 8.00 1.49 2 2 1 2 2 2 2 1 2 9.49\\n3 CCSp3 2.80 0.36 1 2 1 1 2 1 1 1 3 3.16\\n4 3Lz!+3T ! 11.11 x 0.08 0 1 0 -1 1 0 0 0 0 11.19\\n5 StSq4 3.90 0.78 3 2 2 1 3 2 2 1 2 4.68\\n6 FSSp3 2.60 0.04 1 0 -1 0 1 0 0 0 0 2.64\\n7 CCoSp3 3.00 0.51 2 3 2 1 2 1 1 2 2 3.51\\n42.91 46.99\\nProgram Components Factor\\nComposition 1.67 7.75 7.25 7.75 7.50 7.00 7.00 7.75 7.25 7.75 7.46\\nPresentation 1.67 8.00 7.50 7.50 7.75 8.00 7.00 7.50 7.75 8.00 7.71\\nSkating Skills 1.67 7.75 7.25 7.50 7.50 7.75 7.00 7.50 7.50 7.75 7.54\\nJudges Total Program Component Score (factored) 37.93'], ['0.00']]\n",
            "\n",
            "Skater 6: [['6 Mihhail SELEVKO EST 19 84.85 45.60 39.25 0.00'], ['\\n1 4T 9.50 0.41 0 1 0 1 0 1 0 0 1 9.91\\n2 3F+3T 9.50 1.06 2 2 2 2 3 2 2 2 2 10.56\\n3 CCSp4 3.20 0.46 1 3 2 1 2 1 2 1 1 3.66\\n4 3A 8.80 x 1.94 2 3 2 2 3 2 3 2 3 10.74\\n5 StSq4 3.90 1.34 3 4 3 3 5 4 4 3 3 5.24\\n6 FSSp3 2.60 0.19 1 1 0 2 2 0 1 0 0 2.79\\n7 CCoSp3V 2.25 0.45 2 2 2 2 3 2 2 1 2 2.70\\n39.75 45.60\\nProgram Components Factor\\nComposition 1.67 7.75 8.00 7.75 8.00 8.50 7.50 8.00 7.00 8.00 7.86\\nPresentation 1.67 8.00 8.25 7.75 8.00 9.00 7.50 8.00 7.50 8.50 8.00\\nSkating Skills 1.67 7.50 7.75 7.50 7.75 8.25 7.25 7.75 7.25 8.00 7.64\\nJudges Total Program Component Score (factored) 39.25'], ['0.00']]\n",
            "\n"
          ]
        }
      ]
    },
    {
      "cell_type": "code",
      "source": [
        "single_entries[0][0][0]"
      ],
      "metadata": {
        "colab": {
          "base_uri": "https://localhost:8080/",
          "height": 36
        },
        "id": "dhM4Q3xmcoLM",
        "outputId": "f0fb144d-31de-40fa-ac33-2fdf3869b593"
      },
      "execution_count": 7,
      "outputs": [
        {
          "output_type": "execute_result",
          "data": {
            "text/plain": [
              "'1 Adam SIAO HIM FA FRA 34 93.12 49.58 43.54 0.00'"
            ],
            "application/vnd.google.colaboratory.intrinsic+json": {
              "type": "string"
            }
          },
          "metadata": {},
          "execution_count": 7
        }
      ]
    },
    {
      "cell_type": "code",
      "source": [
        "skater_info = single_entries[0][0][0].split(\" \")\n",
        "\n",
        "skater_name = \" \".join(skater_info[1:-6])\n",
        "skater_rank = skater_info[0]\n",
        "skater_nation = skater_info[-6]\n",
        "skater_startnr = skater_info[-5]\n",
        "segment_total = skater_info[-4]\n",
        "segment_tech = skater_info[-3]\n",
        "segment_psc = skater_info[-2]\n",
        "segment_deduction = skater_info[-1]\n",
        "\n",
        "data = [skater_rank, skater_name, skater_nation, skater_startnr, segment_total, segment_tech, segment_psc, segment_deduction]\n",
        "data"
      ],
      "metadata": {
        "colab": {
          "base_uri": "https://localhost:8080/"
        },
        "id": "PnqrefcR657l",
        "outputId": "c68111f3-2b3d-42f9-ea9a-ace30c059a8c"
      },
      "execution_count": 8,
      "outputs": [
        {
          "output_type": "execute_result",
          "data": {
            "text/plain": [
              "['1', 'Adam SIAO HIM FA', 'FRA', '34', '93.12', '49.58', '43.54', '0.00']"
            ]
          },
          "metadata": {},
          "execution_count": 8
        }
      ]
    },
    {
      "cell_type": "code",
      "source": [
        "df = pd.DataFrame([data], columns=['rank', 'name', 'nation', 'startnr', 'total', 'tech', 'pcs', 'deductions'])\n",
        "\n",
        "df"
      ],
      "metadata": {
        "colab": {
          "base_uri": "https://localhost:8080/",
          "height": 89
        },
        "id": "cZgGS12ocYVi",
        "outputId": "5b6323a3-4e16-4cc5-ebde-9296903d4ca0"
      },
      "execution_count": 9,
      "outputs": [
        {
          "output_type": "execute_result",
          "data": {
            "text/plain": [
              "  rank              name nation startnr  total   tech    pcs deductions\n",
              "0    1  Adam SIAO HIM FA    FRA      34  93.12  49.58  43.54       0.00"
            ],
            "text/html": [
              "\n",
              "  <div id=\"df-83643048-5bcf-4087-b948-18b4746e0231\" class=\"colab-df-container\">\n",
              "    <div>\n",
              "<style scoped>\n",
              "    .dataframe tbody tr th:only-of-type {\n",
              "        vertical-align: middle;\n",
              "    }\n",
              "\n",
              "    .dataframe tbody tr th {\n",
              "        vertical-align: top;\n",
              "    }\n",
              "\n",
              "    .dataframe thead th {\n",
              "        text-align: right;\n",
              "    }\n",
              "</style>\n",
              "<table border=\"1\" class=\"dataframe\">\n",
              "  <thead>\n",
              "    <tr style=\"text-align: right;\">\n",
              "      <th></th>\n",
              "      <th>rank</th>\n",
              "      <th>name</th>\n",
              "      <th>nation</th>\n",
              "      <th>startnr</th>\n",
              "      <th>total</th>\n",
              "      <th>tech</th>\n",
              "      <th>pcs</th>\n",
              "      <th>deductions</th>\n",
              "    </tr>\n",
              "  </thead>\n",
              "  <tbody>\n",
              "    <tr>\n",
              "      <th>0</th>\n",
              "      <td>1</td>\n",
              "      <td>Adam SIAO HIM FA</td>\n",
              "      <td>FRA</td>\n",
              "      <td>34</td>\n",
              "      <td>93.12</td>\n",
              "      <td>49.58</td>\n",
              "      <td>43.54</td>\n",
              "      <td>0.00</td>\n",
              "    </tr>\n",
              "  </tbody>\n",
              "</table>\n",
              "</div>\n",
              "    <div class=\"colab-df-buttons\">\n",
              "\n",
              "  <div class=\"colab-df-container\">\n",
              "    <button class=\"colab-df-convert\" onclick=\"convertToInteractive('df-83643048-5bcf-4087-b948-18b4746e0231')\"\n",
              "            title=\"Convert this dataframe to an interactive table.\"\n",
              "            style=\"display:none;\">\n",
              "\n",
              "  <svg xmlns=\"http://www.w3.org/2000/svg\" height=\"24px\" viewBox=\"0 -960 960 960\">\n",
              "    <path d=\"M120-120v-720h720v720H120Zm60-500h600v-160H180v160Zm220 220h160v-160H400v160Zm0 220h160v-160H400v160ZM180-400h160v-160H180v160Zm440 0h160v-160H620v160ZM180-180h160v-160H180v160Zm440 0h160v-160H620v160Z\"/>\n",
              "  </svg>\n",
              "    </button>\n",
              "\n",
              "  <style>\n",
              "    .colab-df-container {\n",
              "      display:flex;\n",
              "      gap: 12px;\n",
              "    }\n",
              "\n",
              "    .colab-df-convert {\n",
              "      background-color: #E8F0FE;\n",
              "      border: none;\n",
              "      border-radius: 50%;\n",
              "      cursor: pointer;\n",
              "      display: none;\n",
              "      fill: #1967D2;\n",
              "      height: 32px;\n",
              "      padding: 0 0 0 0;\n",
              "      width: 32px;\n",
              "    }\n",
              "\n",
              "    .colab-df-convert:hover {\n",
              "      background-color: #E2EBFA;\n",
              "      box-shadow: 0px 1px 2px rgba(60, 64, 67, 0.3), 0px 1px 3px 1px rgba(60, 64, 67, 0.15);\n",
              "      fill: #174EA6;\n",
              "    }\n",
              "\n",
              "    .colab-df-buttons div {\n",
              "      margin-bottom: 4px;\n",
              "    }\n",
              "\n",
              "    [theme=dark] .colab-df-convert {\n",
              "      background-color: #3B4455;\n",
              "      fill: #D2E3FC;\n",
              "    }\n",
              "\n",
              "    [theme=dark] .colab-df-convert:hover {\n",
              "      background-color: #434B5C;\n",
              "      box-shadow: 0px 1px 3px 1px rgba(0, 0, 0, 0.15);\n",
              "      filter: drop-shadow(0px 1px 2px rgba(0, 0, 0, 0.3));\n",
              "      fill: #FFFFFF;\n",
              "    }\n",
              "  </style>\n",
              "\n",
              "    <script>\n",
              "      const buttonEl =\n",
              "        document.querySelector('#df-83643048-5bcf-4087-b948-18b4746e0231 button.colab-df-convert');\n",
              "      buttonEl.style.display =\n",
              "        google.colab.kernel.accessAllowed ? 'block' : 'none';\n",
              "\n",
              "      async function convertToInteractive(key) {\n",
              "        const element = document.querySelector('#df-83643048-5bcf-4087-b948-18b4746e0231');\n",
              "        const dataTable =\n",
              "          await google.colab.kernel.invokeFunction('convertToInteractive',\n",
              "                                                    [key], {});\n",
              "        if (!dataTable) return;\n",
              "\n",
              "        const docLinkHtml = 'Like what you see? Visit the ' +\n",
              "          '<a target=\"_blank\" href=https://colab.research.google.com/notebooks/data_table.ipynb>data table notebook</a>'\n",
              "          + ' to learn more about interactive tables.';\n",
              "        element.innerHTML = '';\n",
              "        dataTable['output_type'] = 'display_data';\n",
              "        await google.colab.output.renderOutput(dataTable, element);\n",
              "        const docLink = document.createElement('div');\n",
              "        docLink.innerHTML = docLinkHtml;\n",
              "        element.appendChild(docLink);\n",
              "      }\n",
              "    </script>\n",
              "  </div>\n",
              "\n",
              "\n",
              "  <div id=\"id_4b775c6b-f9c2-4fa2-b9a9-b93f42f8bb37\">\n",
              "    <style>\n",
              "      .colab-df-generate {\n",
              "        background-color: #E8F0FE;\n",
              "        border: none;\n",
              "        border-radius: 50%;\n",
              "        cursor: pointer;\n",
              "        display: none;\n",
              "        fill: #1967D2;\n",
              "        height: 32px;\n",
              "        padding: 0 0 0 0;\n",
              "        width: 32px;\n",
              "      }\n",
              "\n",
              "      .colab-df-generate:hover {\n",
              "        background-color: #E2EBFA;\n",
              "        box-shadow: 0px 1px 2px rgba(60, 64, 67, 0.3), 0px 1px 3px 1px rgba(60, 64, 67, 0.15);\n",
              "        fill: #174EA6;\n",
              "      }\n",
              "\n",
              "      [theme=dark] .colab-df-generate {\n",
              "        background-color: #3B4455;\n",
              "        fill: #D2E3FC;\n",
              "      }\n",
              "\n",
              "      [theme=dark] .colab-df-generate:hover {\n",
              "        background-color: #434B5C;\n",
              "        box-shadow: 0px 1px 3px 1px rgba(0, 0, 0, 0.15);\n",
              "        filter: drop-shadow(0px 1px 2px rgba(0, 0, 0, 0.3));\n",
              "        fill: #FFFFFF;\n",
              "      }\n",
              "    </style>\n",
              "    <button class=\"colab-df-generate\" onclick=\"generateWithVariable('df')\"\n",
              "            title=\"Generate code using this dataframe.\"\n",
              "            style=\"display:none;\">\n",
              "\n",
              "  <svg xmlns=\"http://www.w3.org/2000/svg\" height=\"24px\"viewBox=\"0 0 24 24\"\n",
              "       width=\"24px\">\n",
              "    <path d=\"M7,19H8.4L18.45,9,17,7.55,7,17.6ZM5,21V16.75L18.45,3.32a2,2,0,0,1,2.83,0l1.4,1.43a1.91,1.91,0,0,1,.58,1.4,1.91,1.91,0,0,1-.58,1.4L9.25,21ZM18.45,9,17,7.55Zm-12,3A5.31,5.31,0,0,0,4.9,8.1,5.31,5.31,0,0,0,1,6.5,5.31,5.31,0,0,0,4.9,4.9,5.31,5.31,0,0,0,6.5,1,5.31,5.31,0,0,0,8.1,4.9,5.31,5.31,0,0,0,12,6.5,5.46,5.46,0,0,0,6.5,12Z\"/>\n",
              "  </svg>\n",
              "    </button>\n",
              "    <script>\n",
              "      (() => {\n",
              "      const buttonEl =\n",
              "        document.querySelector('#id_4b775c6b-f9c2-4fa2-b9a9-b93f42f8bb37 button.colab-df-generate');\n",
              "      buttonEl.style.display =\n",
              "        google.colab.kernel.accessAllowed ? 'block' : 'none';\n",
              "\n",
              "      buttonEl.onclick = () => {\n",
              "        google.colab.notebook.generateWithVariable('df');\n",
              "      }\n",
              "      })();\n",
              "    </script>\n",
              "  </div>\n",
              "\n",
              "    </div>\n",
              "  </div>\n"
            ],
            "application/vnd.google.colaboratory.intrinsic+json": {
              "type": "dataframe",
              "variable_name": "df",
              "summary": "{\n  \"name\": \"df\",\n  \"rows\": 1,\n  \"fields\": [\n    {\n      \"column\": \"rank\",\n      \"properties\": {\n        \"dtype\": \"string\",\n        \"num_unique_values\": 1,\n        \"samples\": [\n          \"1\"\n        ],\n        \"semantic_type\": \"\",\n        \"description\": \"\"\n      }\n    },\n    {\n      \"column\": \"name\",\n      \"properties\": {\n        \"dtype\": \"string\",\n        \"num_unique_values\": 1,\n        \"samples\": [\n          \"Adam SIAO HIM FA\"\n        ],\n        \"semantic_type\": \"\",\n        \"description\": \"\"\n      }\n    },\n    {\n      \"column\": \"nation\",\n      \"properties\": {\n        \"dtype\": \"string\",\n        \"num_unique_values\": 1,\n        \"samples\": [\n          \"FRA\"\n        ],\n        \"semantic_type\": \"\",\n        \"description\": \"\"\n      }\n    },\n    {\n      \"column\": \"startnr\",\n      \"properties\": {\n        \"dtype\": \"string\",\n        \"num_unique_values\": 1,\n        \"samples\": [\n          \"34\"\n        ],\n        \"semantic_type\": \"\",\n        \"description\": \"\"\n      }\n    },\n    {\n      \"column\": \"total\",\n      \"properties\": {\n        \"dtype\": \"string\",\n        \"num_unique_values\": 1,\n        \"samples\": [\n          \"93.12\"\n        ],\n        \"semantic_type\": \"\",\n        \"description\": \"\"\n      }\n    },\n    {\n      \"column\": \"tech\",\n      \"properties\": {\n        \"dtype\": \"string\",\n        \"num_unique_values\": 1,\n        \"samples\": [\n          \"49.58\"\n        ],\n        \"semantic_type\": \"\",\n        \"description\": \"\"\n      }\n    },\n    {\n      \"column\": \"pcs\",\n      \"properties\": {\n        \"dtype\": \"string\",\n        \"num_unique_values\": 1,\n        \"samples\": [\n          \"43.54\"\n        ],\n        \"semantic_type\": \"\",\n        \"description\": \"\"\n      }\n    },\n    {\n      \"column\": \"deductions\",\n      \"properties\": {\n        \"dtype\": \"string\",\n        \"num_unique_values\": 1,\n        \"samples\": [\n          \"0.00\"\n        ],\n        \"semantic_type\": \"\",\n        \"description\": \"\"\n      }\n    }\n  ]\n}"
            }
          },
          "metadata": {},
          "execution_count": 9
        }
      ]
    },
    {
      "cell_type": "code",
      "source": [
        "single_entries[0][1][0]"
      ],
      "metadata": {
        "colab": {
          "base_uri": "https://localhost:8080/",
          "height": 90
        },
        "id": "GNnLNdnuoo4-",
        "outputId": "a48844c3-b03a-4eb3-8fc0-6b707f0af3b9"
      },
      "execution_count": 10,
      "outputs": [
        {
          "output_type": "execute_result",
          "data": {
            "text/plain": [
              "'\\n1 4T+3Tq q 13.70 -1.49 -1 -2 -3 -1 -1 1 -3 -1 -2 12.21\\n2 4S 9.70 -0.83 0 1 -1 -1 -1 0 -2 -1 -2 8.87\\n3 CCoSp4 3.50 0.90 2 3 3 2 3 3 2 2 3 4.40\\n4 3A 8.80 x 2.06 3 2 2 3 3 2 3 2 3 10.86\\n5 StSq4 3.90 1.84 4 5 3 4 5 5 5 5 5 5.74\\n6 FCSp3 2.80 0.76 3 1 2 3 3 3 2 3 3 3.56\\n7 CSSp4 3.00 0.94 3 3 3 2 3 3 4 5 3 3.94\\n45.40 49.58\\nProgram Components Factor\\nComposition 1.67 8.75 9.00 8.50 8.50 9.00 8.75 8.50 9.25 8.50 8.71\\nPresentation 1.67 9.00 8.75 8.25 8.75 8.75 8.50 8.25 9.25 8.25 8.61\\nSkating Skills 1.67 8.75 8.75 8.50 8.75 9.25 8.75 8.50 9.50 8.50 8.75\\nJudges Total Program Component Score (factored) 43.54'"
            ],
            "application/vnd.google.colaboratory.intrinsic+json": {
              "type": "string"
            }
          },
          "metadata": {},
          "execution_count": 10
        }
      ]
    },
    {
      "cell_type": "code",
      "source": [
        "element_data = single_entries[0][1][0].split('\\n')[1:]\n",
        "\n",
        "del element_data[-6:]\n",
        "\n",
        "element_data"
      ],
      "metadata": {
        "colab": {
          "base_uri": "https://localhost:8080/"
        },
        "id": "-KipsNkRn7b-",
        "outputId": "8f0b3e07-863f-4a48-c46a-177c028c34e7"
      },
      "execution_count": 11,
      "outputs": [
        {
          "output_type": "execute_result",
          "data": {
            "text/plain": [
              "['1 4T+3Tq q 13.70 -1.49 -1 -2 -3 -1 -1 1 -3 -1 -2 12.21',\n",
              " '2 4S 9.70 -0.83 0 1 -1 -1 -1 0 -2 -1 -2 8.87',\n",
              " '3 CCoSp4 3.50 0.90 2 3 3 2 3 3 2 2 3 4.40',\n",
              " '4 3A 8.80 x 2.06 3 2 2 3 3 2 3 2 3 10.86',\n",
              " '5 StSq4 3.90 1.84 4 5 3 4 5 5 5 5 5 5.74',\n",
              " '6 FCSp3 2.80 0.76 3 1 2 3 3 3 2 3 3 3.56',\n",
              " '7 CSSp4 3.00 0.94 3 3 3 2 3 3 4 5 3 3.94']"
            ]
          },
          "metadata": {},
          "execution_count": 11
        }
      ]
    },
    {
      "cell_type": "code",
      "source": [
        "#checking for whitespaces\n",
        "for element in element_data:\n",
        "  parts = re.split(r'(\\s+)', element)\n",
        "  print(parts)"
      ],
      "metadata": {
        "colab": {
          "base_uri": "https://localhost:8080/"
        },
        "id": "dQLaa-5uyv2w",
        "outputId": "f98f4757-ccf3-4c45-d8da-cffbe8fee22a"
      },
      "execution_count": 12,
      "outputs": [
        {
          "output_type": "stream",
          "name": "stdout",
          "text": [
            "['1', ' ', '4T+3Tq', ' ', 'q', ' ', '13.70', ' ', '-1.49', ' ', '-1', ' ', '-2', ' ', '-3', ' ', '-1', ' ', '-1', ' ', '1', ' ', '-3', ' ', '-1', ' ', '-2', ' ', '12.21']\n",
            "['2', ' ', '4S', ' ', '9.70', ' ', '-0.83', ' ', '0', ' ', '1', ' ', '-1', ' ', '-1', ' ', '-1', ' ', '0', ' ', '-2', ' ', '-1', ' ', '-2', ' ', '8.87']\n",
            "['3', ' ', 'CCoSp4', ' ', '3.50', ' ', '0.90', ' ', '2', ' ', '3', ' ', '3', ' ', '2', ' ', '3', ' ', '3', ' ', '2', ' ', '2', ' ', '3', ' ', '4.40']\n",
            "['4', ' ', '3A', ' ', '8.80', ' ', 'x', ' ', '2.06', ' ', '3', ' ', '2', ' ', '2', ' ', '3', ' ', '3', ' ', '2', ' ', '3', ' ', '2', ' ', '3', ' ', '10.86']\n",
            "['5', ' ', 'StSq4', ' ', '3.90', ' ', '1.84', ' ', '4', ' ', '5', ' ', '3', ' ', '4', ' ', '5', ' ', '5', ' ', '5', ' ', '5', ' ', '5', ' ', '5.74']\n",
            "['6', ' ', 'FCSp3', ' ', '2.80', ' ', '0.76', ' ', '3', ' ', '1', ' ', '2', ' ', '3', ' ', '3', ' ', '3', ' ', '2', ' ', '3', ' ', '3', ' ', '3.56']\n",
            "['7', ' ', 'CSSp4', ' ', '3.00', ' ', '0.94', ' ', '3', ' ', '3', ' ', '3', ' ', '2', ' ', '3', ' ', '3', ' ', '4', ' ', '5', ' ', '3', ' ', '3.94']\n"
          ]
        }
      ]
    },
    {
      "cell_type": "code",
      "source": [
        "word_counts = [len(entry.split(' ')) for entry in element_data]\n",
        "\n",
        "print(word_counts)"
      ],
      "metadata": {
        "colab": {
          "base_uri": "https://localhost:8080/"
        },
        "id": "BPl0muauFrGJ",
        "outputId": "e144b617-bbdb-4371-d970-811282dfe269"
      },
      "execution_count": 13,
      "outputs": [
        {
          "output_type": "stream",
          "name": "stdout",
          "text": [
            "[15, 14, 14, 15, 14, 14, 14]\n"
          ]
        }
      ]
    },
    {
      "cell_type": "code",
      "source": [
        "# if there is an Info about element the list has 15 elements, otherwise 14\n",
        "\n",
        "def process_element_data(element_data):\n",
        "    processed_elements = []\n",
        "    infos = []\n",
        "\n",
        "    for data in element_data:\n",
        "        parts = re.split(r'\\s+', data.strip())\n",
        "\n",
        "        if len(parts) == 15:\n",
        "          if parts[3] == 'x':\n",
        "            element = parts[1]\n",
        "            info = parts[3]\n",
        "          else:\n",
        "            element = parts[1]\n",
        "            info = parts[2]\n",
        "        else:\n",
        "            element = parts[1]\n",
        "            info = None\n",
        "\n",
        "        processed_elements.append(element)\n",
        "        infos.append(info)\n",
        "\n",
        "    return processed_elements, infos"
      ],
      "metadata": {
        "id": "4fFmXK_-AQis"
      },
      "execution_count": 14,
      "outputs": []
    },
    {
      "cell_type": "code",
      "source": [
        "elements, infos = process_element_data(element_data)\n",
        "print(elements)\n",
        "print(infos)"
      ],
      "metadata": {
        "colab": {
          "base_uri": "https://localhost:8080/"
        },
        "id": "q_l1nMJ7IoUn",
        "outputId": "5dfc369a-61d9-4bc3-d24d-a54f437bce9c"
      },
      "execution_count": 15,
      "outputs": [
        {
          "output_type": "stream",
          "name": "stdout",
          "text": [
            "['4T+3Tq', '4S', 'CCoSp4', '3A', 'StSq4', 'FCSp3', 'CSSp4']\n",
            "['q', None, None, 'x', None, None, None]\n"
          ]
        }
      ]
    }
  ]
}