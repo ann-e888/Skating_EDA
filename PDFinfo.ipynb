{
  "nbformat": 4,
  "nbformat_minor": 0,
  "metadata": {
    "colab": {
      "provenance": [],
      "authorship_tag": "ABX9TyOBtMVnuwjHTPZiC3uTliCJ",
      "include_colab_link": true
    },
    "kernelspec": {
      "name": "python3",
      "display_name": "Python 3"
    },
    "language_info": {
      "name": "python"
    }
  },
  "cells": [
    {
      "cell_type": "markdown",
      "metadata": {
        "id": "view-in-github",
        "colab_type": "text"
      },
      "source": [
        "<a href=\"https://colab.research.google.com/github/ann-e888/Skating_EDA/blob/main/PDFinfo.ipynb\" target=\"_parent\"><img src=\"https://colab.research.google.com/assets/colab-badge.svg\" alt=\"Open In Colab\"/></a>"
      ]
    },
    {
      "cell_type": "code",
      "execution_count": 327,
      "metadata": {
        "id": "WkGFncaMOEqI",
        "collapsed": true,
        "colab": {
          "base_uri": "https://localhost:8080/"
        },
        "outputId": "c3522105-5f66-44f1-bca4-5f41c20c10d3"
      },
      "outputs": [
        {
          "output_type": "stream",
          "name": "stdout",
          "text": [
            "Requirement already satisfied: pdfplumber in /usr/local/lib/python3.11/dist-packages (0.11.5)\n",
            "Requirement already satisfied: pdfminer.six==20231228 in /usr/local/lib/python3.11/dist-packages (from pdfplumber) (20231228)\n",
            "Requirement already satisfied: Pillow>=9.1 in /usr/local/lib/python3.11/dist-packages (from pdfplumber) (11.1.0)\n",
            "Requirement already satisfied: pypdfium2>=4.18.0 in /usr/local/lib/python3.11/dist-packages (from pdfplumber) (4.30.1)\n",
            "Requirement already satisfied: charset-normalizer>=2.0.0 in /usr/local/lib/python3.11/dist-packages (from pdfminer.six==20231228->pdfplumber) (3.4.1)\n",
            "Requirement already satisfied: cryptography>=36.0.0 in /usr/local/lib/python3.11/dist-packages (from pdfminer.six==20231228->pdfplumber) (43.0.3)\n",
            "Requirement already satisfied: cffi>=1.12 in /usr/local/lib/python3.11/dist-packages (from cryptography>=36.0.0->pdfminer.six==20231228->pdfplumber) (1.17.1)\n",
            "Requirement already satisfied: pycparser in /usr/local/lib/python3.11/dist-packages (from cffi>=1.12->cryptography>=36.0.0->pdfminer.six==20231228->pdfplumber) (2.22)\n"
          ]
        }
      ],
      "source": [
        "!pip install pdfplumber"
      ]
    },
    {
      "cell_type": "code",
      "source": [
        "import ast\n",
        "import re\n",
        "import pdfplumber\n",
        "\n",
        "import pandas as pd\n",
        "import numpy as np\n",
        "import matplotlib.pyplot as plt\n",
        "import seaborn as sns\n",
        "\n",
        "sns.set()"
      ],
      "metadata": {
        "id": "Qiq8UJtyz970"
      },
      "execution_count": 328,
      "outputs": []
    },
    {
      "cell_type": "code",
      "source": [
        "with pdfplumber.open('men_short_euros.pdf') as f:\n",
        "  tables = [page.extract_tables() for page in f.pages]"
      ],
      "metadata": {
        "id": "VPT-VTuvzbbK"
      },
      "execution_count": 329,
      "outputs": []
    },
    {
      "cell_type": "code",
      "source": [
        "single_entries = [x for page in tables for x in page]"
      ],
      "metadata": {
        "collapsed": true,
        "id": "VkRZsFbX7V2b"
      },
      "execution_count": 330,
      "outputs": []
    },
    {
      "cell_type": "code",
      "source": [
        "first_to_remove = 'Total Total\\nStarting Total Program Component\\nRank Name Nation Segment Element Total Deductions\\nNumber Score (factored)\\nScore Score\\n'\n",
        "second_to_remove = '# Executed Elements ofnI Base Scores of GOE J1 J2 J3 J4 J5 J6 J7 J8 J9 Ref.\\nValue Panel'\n",
        "third_to_remove = 'Deductions: '\n",
        "\n",
        "for i in range(len(single_entries)):\n",
        "    single_entries[i][0][0] = single_entries[i][0][0].replace(first_to_remove, '')\n",
        "    single_entries[i][1][0] = single_entries[i][1][0].replace(second_to_remove, '')\n",
        "    single_entries[i][2][0] = single_entries[i][2][0].replace(third_to_remove, '')"
      ],
      "metadata": {
        "id": "jkiL9pUoddNB"
      },
      "execution_count": 331,
      "outputs": []
    },
    {
      "cell_type": "code",
      "source": [
        "for index, skater in enumerate(single_entries):\n",
        "  if index < 6:\n",
        "    print(f\"Skater {index+1}: {skater}\\n\")"
      ],
      "metadata": {
        "colab": {
          "base_uri": "https://localhost:8080/"
        },
        "id": "x6EorN927EqU",
        "outputId": "a8f02f10-0717-40d0-9189-cb4bb1339c41",
        "collapsed": true
      },
      "execution_count": 332,
      "outputs": [
        {
          "output_type": "stream",
          "name": "stdout",
          "text": [
            "Skater 1: [['1 Adam SIAO HIM FA FRA 34 93.12 49.58 43.54 0.00'], ['\\n1 4T+3Tq q 13.70 -1.49 -1 -2 -3 -1 -1 1 -3 -1 -2 12.21\\n2 4S 9.70 -0.83 0 1 -1 -1 -1 0 -2 -1 -2 8.87\\n3 CCoSp4 3.50 0.90 2 3 3 2 3 3 2 2 3 4.40\\n4 3A 8.80 x 2.06 3 2 2 3 3 2 3 2 3 10.86\\n5 StSq4 3.90 1.84 4 5 3 4 5 5 5 5 5 5.74\\n6 FCSp3 2.80 0.76 3 1 2 3 3 3 2 3 3 3.56\\n7 CSSp4 3.00 0.94 3 3 3 2 3 3 4 5 3 3.94\\n45.40 49.58\\nProgram Components Factor\\nComposition 1.67 8.75 9.00 8.50 8.50 9.00 8.75 8.50 9.25 8.50 8.71\\nPresentation 1.67 9.00 8.75 8.25 8.75 8.75 8.50 8.25 9.25 8.25 8.61\\nSkating Skills 1.67 8.75 8.75 8.50 8.75 9.25 8.75 8.50 9.50 8.50 8.75\\nJudges Total Program Component Score (factored) 43.54'], ['0.00']]\n",
            "\n",
            "Skater 2: [['2 Nika EGADZE GEO 29 91.94 53.17 38.77 0.00'], ['\\n1 4S+3T 13.90 1.94 2 2 2 1 2 2 3 2 2 15.84\\n2 4T 9.50 2.44 1 3 3 1 4 2 3 3 3 11.94\\n3 FCSp3 2.80 0.36 2 2 1 1 1 1 1 1 2 3.16\\n4 3A 8.80 x 1.71 2 2 2 2 3 3 2 1 2 10.51\\n5 CSSp4 3.00 -0.13 0 0 1 1 -2 -1 -1 -2 0 2.87\\n6 StSq4 3.90 1.00 3 3 2 2 2 3 3 3 2 4.90\\n7 CCoSp4 3.50 0.45 2 2 2 1 1 0 0 1 2 3.95\\n45.40 53.17\\nProgram Components Factor\\nComposition 1.67 7.50 7.75 8.00 7.25 7.50 7.00 8.25 8.00 8.00 7.71\\nPresentation 1.67 7.75 8.25 7.75 7.50 6.75 7.00 8.00 7.75 8.00 7.68\\nSkating Skills 1.67 7.50 7.75 8.00 7.75 7.75 7.50 8.00 8.50 8.00 7.82\\nJudges Total Program Component Score (factored) 38.77'], ['0.00']]\n",
            "\n",
            "Skater 3: [['3 Vladimir SAMOILOV POL 24 85.98 48.63 37.35 0.00'], ['\\n1 4S 9.70 3.46 3 4 3 2 4 3 4 4 4 13.16\\n2 3A 8.00 1.60 2 2 2 1 2 2 2 2 2 9.60\\n3 CCSp4 3.20 0.82 2 3 2 2 3 2 3 3 3 4.02\\n4 3Lz!+3T ! 11.11 x 0.00 0 0 -1 0 1 1 -1 0 0 11.11\\n5 FSSp3 2.60 0.33 1 2 1 1 2 1 1 1 2 2.93\\n6 StSq3 3.30 0.61 2 3 1 1 2 2 2 2 2 3.91\\n7 CCoSp3 3.00 0.90 3 3 3 2 3 3 4 3 3 3.90\\n40.91 48.63\\nProgram Components Factor\\nComposition 1.67 7.50 7.75 7.25 7.50 6.00 7.25 7.50 7.50 7.00 7.36\\nPresentation 1.67 7.75 8.00 7.25 7.50 6.75 7.25 7.50 7.75 7.50 7.50\\nSkating Skills 1.67 7.50 7.75 7.50 7.75 7.25 7.00 7.75 8.00 7.00 7.50\\nJudges Total Program Component Score (factored) 37.35'], ['0.00']]\n",
            "\n",
            "Skater 4: [['4 Matteo RIZZO ITA 32 85.68 44.42 41.26 0.00'], ['\\n1 4T 9.50 2.85 3 4 3 2 4 3 3 2 3 12.35\\n2 3Lz!+3T ! 10.10 0.25 0 1 -1 0 1 1 0 1 0 10.35\\n3 CCSp3 2.80 0.32 1 -1 1 2 2 2 0 1 1 3.12\\n4 3A 8.80 x -2.51 -3 -4 -4 -3 -3 -3 -3 -2 -3 6.29\\n5 CCoSp3 3.00 0.51 3 -1 2 3 4 0 1 1 2 3.51\\n6 StSq4 3.90 1.39 4 3 2 3 4 4 4 5 3 5.29\\n7 FSSp4 3.00 0.51 1 2 2 3 2 2 1 2 1 3.51\\n41.10 44.42\\nProgram Components Factor\\nComposition 1.67 8.50 8.25 8.00 8.50 7.75 8.00 8.00 9.00 7.75 8.14\\nPresentation 1.67 8.75 8.50 7.50 8.75 8.25 8.00 8.25 8.75 8.00 8.36\\nSkating Skills 1.67 8.50 8.25 8.00 8.50 8.25 8.00 8.00 9.25 8.00 8.21\\nJudges Total Program Component Score (factored) 41.26'], ['0.00']]\n",
            "\n",
            "Skater 5: [['5 Nikolaj MEMOLA ITA 28 84.92 46.99 37.93 0.00'], ['\\n1 4Lz! ! 11.50 0.82 0 2 0 0 2 1 1 0 1 12.32\\n2 3A 8.00 1.49 2 2 1 2 2 2 2 1 2 9.49\\n3 CCSp3 2.80 0.36 1 2 1 1 2 1 1 1 3 3.16\\n4 3Lz!+3T ! 11.11 x 0.08 0 1 0 -1 1 0 0 0 0 11.19\\n5 StSq4 3.90 0.78 3 2 2 1 3 2 2 1 2 4.68\\n6 FSSp3 2.60 0.04 1 0 -1 0 1 0 0 0 0 2.64\\n7 CCoSp3 3.00 0.51 2 3 2 1 2 1 1 2 2 3.51\\n42.91 46.99\\nProgram Components Factor\\nComposition 1.67 7.75 7.25 7.75 7.50 7.00 7.00 7.75 7.25 7.75 7.46\\nPresentation 1.67 8.00 7.50 7.50 7.75 8.00 7.00 7.50 7.75 8.00 7.71\\nSkating Skills 1.67 7.75 7.25 7.50 7.50 7.75 7.00 7.50 7.50 7.75 7.54\\nJudges Total Program Component Score (factored) 37.93'], ['0.00']]\n",
            "\n",
            "Skater 6: [['6 Mihhail SELEVKO EST 19 84.85 45.60 39.25 0.00'], ['\\n1 4T 9.50 0.41 0 1 0 1 0 1 0 0 1 9.91\\n2 3F+3T 9.50 1.06 2 2 2 2 3 2 2 2 2 10.56\\n3 CCSp4 3.20 0.46 1 3 2 1 2 1 2 1 1 3.66\\n4 3A 8.80 x 1.94 2 3 2 2 3 2 3 2 3 10.74\\n5 StSq4 3.90 1.34 3 4 3 3 5 4 4 3 3 5.24\\n6 FSSp3 2.60 0.19 1 1 0 2 2 0 1 0 0 2.79\\n7 CCoSp3V 2.25 0.45 2 2 2 2 3 2 2 1 2 2.70\\n39.75 45.60\\nProgram Components Factor\\nComposition 1.67 7.75 8.00 7.75 8.00 8.50 7.50 8.00 7.00 8.00 7.86\\nPresentation 1.67 8.00 8.25 7.75 8.00 9.00 7.50 8.00 7.50 8.50 8.00\\nSkating Skills 1.67 7.50 7.75 7.50 7.75 8.25 7.25 7.75 7.25 8.00 7.64\\nJudges Total Program Component Score (factored) 39.25'], ['0.00']]\n",
            "\n"
          ]
        }
      ]
    },
    {
      "cell_type": "code",
      "source": [
        "single_entries[0][0][0]"
      ],
      "metadata": {
        "colab": {
          "base_uri": "https://localhost:8080/",
          "height": 36
        },
        "id": "dhM4Q3xmcoLM",
        "outputId": "f3af1bfb-b7a1-4b8a-ed36-d44054c0366b"
      },
      "execution_count": 333,
      "outputs": [
        {
          "output_type": "execute_result",
          "data": {
            "text/plain": [
              "'1 Adam SIAO HIM FA FRA 34 93.12 49.58 43.54 0.00'"
            ],
            "application/vnd.google.colaboratory.intrinsic+json": {
              "type": "string"
            }
          },
          "metadata": {},
          "execution_count": 333
        }
      ]
    },
    {
      "cell_type": "code",
      "source": [
        "single_entries[0][1][0]"
      ],
      "metadata": {
        "colab": {
          "base_uri": "https://localhost:8080/",
          "height": 90
        },
        "id": "GNnLNdnuoo4-",
        "outputId": "458eeb62-e0e2-416a-e94f-0fc299c6680a"
      },
      "execution_count": 334,
      "outputs": [
        {
          "output_type": "execute_result",
          "data": {
            "text/plain": [
              "'\\n1 4T+3Tq q 13.70 -1.49 -1 -2 -3 -1 -1 1 -3 -1 -2 12.21\\n2 4S 9.70 -0.83 0 1 -1 -1 -1 0 -2 -1 -2 8.87\\n3 CCoSp4 3.50 0.90 2 3 3 2 3 3 2 2 3 4.40\\n4 3A 8.80 x 2.06 3 2 2 3 3 2 3 2 3 10.86\\n5 StSq4 3.90 1.84 4 5 3 4 5 5 5 5 5 5.74\\n6 FCSp3 2.80 0.76 3 1 2 3 3 3 2 3 3 3.56\\n7 CSSp4 3.00 0.94 3 3 3 2 3 3 4 5 3 3.94\\n45.40 49.58\\nProgram Components Factor\\nComposition 1.67 8.75 9.00 8.50 8.50 9.00 8.75 8.50 9.25 8.50 8.71\\nPresentation 1.67 9.00 8.75 8.25 8.75 8.75 8.50 8.25 9.25 8.25 8.61\\nSkating Skills 1.67 8.75 8.75 8.50 8.75 9.25 8.75 8.50 9.50 8.50 8.75\\nJudges Total Program Component Score (factored) 43.54'"
            ],
            "application/vnd.google.colaboratory.intrinsic+json": {
              "type": "string"
            }
          },
          "metadata": {},
          "execution_count": 334
        }
      ]
    },
    {
      "cell_type": "code",
      "source": [
        "single_entries_updated = []\n",
        "elements = []\n",
        "\n",
        "for entry in single_entries:\n",
        "  element_data = entry[1][0].split('\\n')[1:]\n",
        "  del element_data[-6:]\n",
        "  #print(element_data)\n",
        "  single_entries_updated.append([entry[0], element_data])\n",
        "  elements.append(element_data)"
      ],
      "metadata": {
        "id": "-KipsNkRn7b-",
        "collapsed": true
      },
      "execution_count": 335,
      "outputs": []
    },
    {
      "cell_type": "code",
      "source": [
        "single_entries_updated[0]"
      ],
      "metadata": {
        "colab": {
          "base_uri": "https://localhost:8080/"
        },
        "id": "de1nBbAYXKyF",
        "outputId": "4ee10c2e-354b-4f57-f8c5-9d0044be3160"
      },
      "execution_count": 336,
      "outputs": [
        {
          "output_type": "execute_result",
          "data": {
            "text/plain": [
              "[['1 Adam SIAO HIM FA FRA 34 93.12 49.58 43.54 0.00'],\n",
              " ['1 4T+3Tq q 13.70 -1.49 -1 -2 -3 -1 -1 1 -3 -1 -2 12.21',\n",
              "  '2 4S 9.70 -0.83 0 1 -1 -1 -1 0 -2 -1 -2 8.87',\n",
              "  '3 CCoSp4 3.50 0.90 2 3 3 2 3 3 2 2 3 4.40',\n",
              "  '4 3A 8.80 x 2.06 3 2 2 3 3 2 3 2 3 10.86',\n",
              "  '5 StSq4 3.90 1.84 4 5 3 4 5 5 5 5 5 5.74',\n",
              "  '6 FCSp3 2.80 0.76 3 1 2 3 3 3 2 3 3 3.56',\n",
              "  '7 CSSp4 3.00 0.94 3 3 3 2 3 3 4 5 3 3.94']]"
            ]
          },
          "metadata": {},
          "execution_count": 336
        }
      ]
    },
    {
      "cell_type": "code",
      "source": [
        "elements[0]"
      ],
      "metadata": {
        "colab": {
          "base_uri": "https://localhost:8080/"
        },
        "collapsed": true,
        "id": "6cR9h6AYZWCY",
        "outputId": "15fce82e-0065-411e-90e4-5230f06e5f45"
      },
      "execution_count": 337,
      "outputs": [
        {
          "output_type": "execute_result",
          "data": {
            "text/plain": [
              "['1 4T+3Tq q 13.70 -1.49 -1 -2 -3 -1 -1 1 -3 -1 -2 12.21',\n",
              " '2 4S 9.70 -0.83 0 1 -1 -1 -1 0 -2 -1 -2 8.87',\n",
              " '3 CCoSp4 3.50 0.90 2 3 3 2 3 3 2 2 3 4.40',\n",
              " '4 3A 8.80 x 2.06 3 2 2 3 3 2 3 2 3 10.86',\n",
              " '5 StSq4 3.90 1.84 4 5 3 4 5 5 5 5 5 5.74',\n",
              " '6 FCSp3 2.80 0.76 3 1 2 3 3 3 2 3 3 3.56',\n",
              " '7 CSSp4 3.00 0.94 3 3 3 2 3 3 4 5 3 3.94']"
            ]
          },
          "metadata": {},
          "execution_count": 337
        }
      ]
    },
    {
      "cell_type": "code",
      "source": [
        "parts_list = []\n",
        "\n",
        "for entry in elements:\n",
        "  for element in entry:\n",
        "    parts = re.split(r'(\\s+)', element)\n",
        "    parts_list.append(parts)\n",
        "\n",
        "# print(parts_list)"
      ],
      "metadata": {
        "collapsed": true,
        "id": "j4b3rF7w6iMf"
      },
      "execution_count": 338,
      "outputs": []
    },
    {
      "cell_type": "code",
      "source": [
        "word_counts = [len(entry.split(' ')) for entry in elements[0]]\n",
        "\n",
        "print(word_counts)"
      ],
      "metadata": {
        "colab": {
          "base_uri": "https://localhost:8080/"
        },
        "id": "BPl0muauFrGJ",
        "outputId": "45395beb-8ac9-4950-d522-48a1a54bb1f9"
      },
      "execution_count": 339,
      "outputs": [
        {
          "output_type": "stream",
          "name": "stdout",
          "text": [
            "[15, 14, 14, 15, 14, 14, 14]\n"
          ]
        }
      ]
    },
    {
      "cell_type": "code",
      "source": [
        "skaters_list = []\n",
        "\n",
        "for element in single_entries_updated:\n",
        "\n",
        "  skater_info = element[0][0].split(\" \")\n",
        "\n",
        "  skater_rank = int(skater_info[0])\n",
        "  skater_name = \" \".join(skater_info[1:-6])\n",
        "  skater_nation = skater_info[-6]\n",
        "  skater_startnr = int(skater_info[-5])\n",
        "  segment_total = float(skater_info[-4])\n",
        "  segment_tech = float(skater_info[-3])\n",
        "  segment_pcs = float(skater_info[-2])\n",
        "  segment_deduction = float(skater_info[-1])\n",
        "\n",
        "\n",
        "  skater_data = {\n",
        "      \"rank\": skater_rank,\n",
        "      \"name\": skater_name,\n",
        "      \"nation\": skater_nation,\n",
        "      \"startnr\": skater_startnr,\n",
        "      \"total\": segment_total,\n",
        "      \"tech\": segment_tech,\n",
        "      \"pcs\": segment_pcs,\n",
        "      \"deductions\": segment_deduction\n",
        "  }\n",
        "\n",
        "  skaters_list.append(skater_data)"
      ],
      "metadata": {
        "id": "PnqrefcR657l"
      },
      "execution_count": 340,
      "outputs": []
    },
    {
      "cell_type": "code",
      "source": [
        "# if there is no Info about element the list has 14 elements, otherwise 15 or more\n",
        "\n",
        "def process_element_data(elements):\n",
        "    processed_elements = []\n",
        "    calls = []\n",
        "    scores = []\n",
        "\n",
        "    for entry in elements:\n",
        "      for element in entry:\n",
        "        parts = re.split(r'\\s+', element.strip())\n",
        "\n",
        "        if len(parts) == 14:\n",
        "          element = parts[1]\n",
        "          call = 'None'\n",
        "        else:\n",
        "          if parts[3] == 'x':\n",
        "            element = parts[1]\n",
        "            call = parts[3]\n",
        "          elif parts[4] == 'x':\n",
        "            element = parts[1]\n",
        "            call = parts[2], parts[4]\n",
        "          else:\n",
        "            if parts[3] in ('F', 'e', '!', 'q', '*', '<'):\n",
        "              element = parts[1]\n",
        "              call = parts[2], parts[3]\n",
        "            else:\n",
        "              element = parts[1]\n",
        "              call = parts[2]\n",
        "\n",
        "        final_value = float(parts[-1])\n",
        "        goe = float(parts[-11])\n",
        "        judges_scores = [float(score) if score != '-' else 'None' for score in parts[-10:-2]]\n",
        "        base_value = round(final_value - abs(goe) if goe > 0 else final_value + abs(goe), 2)\n",
        "\n",
        "        processed_elements.append(element)\n",
        "        calls.append(call)\n",
        "        scores.append((base_value, goe, judges_scores, final_value))\n",
        "\n",
        "    return processed_elements, calls, scores"
      ],
      "metadata": {
        "id": "4fFmXK_-AQis"
      },
      "execution_count": 341,
      "outputs": []
    },
    {
      "cell_type": "code",
      "source": [
        "elements, calls, scores = process_element_data(elements)\n",
        "# print(elements)\n",
        "# print(calls)\n",
        "# print(scores)"
      ],
      "metadata": {
        "id": "q_l1nMJ7IoUn"
      },
      "execution_count": 342,
      "outputs": []
    },
    {
      "cell_type": "code",
      "source": [
        "skater_performance = list(zip(elements, calls, scores))\n",
        "skater_performance[0]\n",
        "\n",
        "# for element, call, score in skater_performance:\n",
        "#     print(f\"Element: {element}, Call: {call}, Judges Scores: {score}\")"
      ],
      "metadata": {
        "colab": {
          "base_uri": "https://localhost:8080/"
        },
        "id": "HCBpVGFqm3BR",
        "outputId": "264a612d-ee54-4c4c-d4c8-06cc1d5cc108"
      },
      "execution_count": 343,
      "outputs": [
        {
          "output_type": "execute_result",
          "data": {
            "text/plain": [
              "('4T+3Tq',\n",
              " 'q',\n",
              " (13.7, -1.49, [-1.0, -2.0, -3.0, -1.0, -1.0, 1.0, -3.0, -1.0], 12.21))"
            ]
          },
          "metadata": {},
          "execution_count": 343
        }
      ]
    },
    {
      "cell_type": "code",
      "source": [
        "data = []\n",
        "\n",
        "for i, skater in enumerate(skaters_list):\n",
        "\n",
        "    performances_for_skater = skater_performance[i*7:(i+1)*7]\n",
        "\n",
        "    for performance in performances_for_skater:\n",
        "        row = skater.copy()\n",
        "        row['element'] = performance[0]\n",
        "        row['call'] = performance[1]\n",
        "        row['base_value'] = performance[2][0]\n",
        "        row['goe'] = performance[2][1]\n",
        "        row['judges_scores'] = performance[2][2]\n",
        "        row['final_element_score'] = performance[2][3]\n",
        "        data.append(row)\n",
        "\n",
        "df = pd.DataFrame(data)"
      ],
      "metadata": {
        "id": "jV8Z27RVhxBQ"
      },
      "execution_count": 344,
      "outputs": []
    },
    {
      "cell_type": "code",
      "source": [
        "df"
      ],
      "metadata": {
        "colab": {
          "base_uri": "https://localhost:8080/",
          "height": 423
        },
        "id": "5ePRLscPhFtp",
        "outputId": "8e87a11d-50c7-4128-d686-fcbb8a35ab8a"
      },
      "execution_count": 345,
      "outputs": [
        {
          "output_type": "execute_result",
          "data": {
            "text/plain": [
              "     rank              name nation  startnr  total   tech    pcs  deductions  \\\n",
              "0       1  Adam SIAO HIM FA    FRA       34  93.12  49.58  43.54         0.0   \n",
              "1       1  Adam SIAO HIM FA    FRA       34  93.12  49.58  43.54         0.0   \n",
              "2       1  Adam SIAO HIM FA    FRA       34  93.12  49.58  43.54         0.0   \n",
              "3       1  Adam SIAO HIM FA    FRA       34  93.12  49.58  43.54         0.0   \n",
              "4       1  Adam SIAO HIM FA    FRA       34  93.12  49.58  43.54         0.0   \n",
              "..    ...               ...    ...      ...    ...    ...    ...         ...   \n",
              "233    34      Jari KESSLER    CRO        6  50.83  19.73  32.10        -1.0   \n",
              "234    34      Jari KESSLER    CRO        6  50.83  19.73  32.10        -1.0   \n",
              "235    34      Jari KESSLER    CRO        6  50.83  19.73  32.10        -1.0   \n",
              "236    34      Jari KESSLER    CRO        6  50.83  19.73  32.10        -1.0   \n",
              "237    34      Jari KESSLER    CRO        6  50.83  19.73  32.10        -1.0   \n",
              "\n",
              "    element  call  base_value   goe  \\\n",
              "0    4T+3Tq     q       13.70 -1.49   \n",
              "1        4S  None        9.70 -0.83   \n",
              "2    CCoSp4  None        3.50  0.90   \n",
              "3        3A     x        8.80  2.06   \n",
              "4     StSq4  None        3.90  1.84   \n",
              "..      ...   ...         ...   ...   \n",
              "233   FSSp1  None        2.00 -0.06   \n",
              "234      2A     x        3.63  0.38   \n",
              "235   CCSp4  None        3.20  0.27   \n",
              "236   StSq3  None        3.30  0.47   \n",
              "237  CCoSp3  None        3.00  0.04   \n",
              "\n",
              "                                       judges_scores  final_element_score  \n",
              "0    [-1.0, -2.0, -3.0, -1.0, -1.0, 1.0, -3.0, -1.0]                12.21  \n",
              "1      [0.0, 1.0, -1.0, -1.0, -1.0, 0.0, -2.0, -1.0]                 8.87  \n",
              "2           [2.0, 3.0, 3.0, 2.0, 3.0, 3.0, 2.0, 2.0]                 4.40  \n",
              "3           [3.0, 2.0, 2.0, 3.0, 3.0, 2.0, 3.0, 2.0]                10.86  \n",
              "4           [4.0, 5.0, 3.0, 4.0, 5.0, 5.0, 5.0, 5.0]                 5.74  \n",
              "..                                               ...                  ...  \n",
              "233     [-1.0, 0.0, -2.0, 1.0, -1.0, 1.0, -1.0, 0.0]                 1.94  \n",
              "234         [0.0, 2.0, 1.0, 1.0, 3.0, 2.0, 2.0, 0.0]                 4.01  \n",
              "235        [-1.0, 0.0, 2.0, 0.0, 1.0, 0.0, 2.0, 1.0]                 3.47  \n",
              "236         [2.0, 1.0, 2.0, 1.0, 2.0, 2.0, 1.0, 1.0]                 3.77  \n",
              "237       [2.0, 1.0, 1.0, 1.0, 1.0, -2.0, 0.0, -2.0]                 3.04  \n",
              "\n",
              "[238 rows x 14 columns]"
            ],
            "text/html": [
              "\n",
              "  <div id=\"df-8c8c9177-dd30-4e48-8f71-71fae6554d3c\" class=\"colab-df-container\">\n",
              "    <div>\n",
              "<style scoped>\n",
              "    .dataframe tbody tr th:only-of-type {\n",
              "        vertical-align: middle;\n",
              "    }\n",
              "\n",
              "    .dataframe tbody tr th {\n",
              "        vertical-align: top;\n",
              "    }\n",
              "\n",
              "    .dataframe thead th {\n",
              "        text-align: right;\n",
              "    }\n",
              "</style>\n",
              "<table border=\"1\" class=\"dataframe\">\n",
              "  <thead>\n",
              "    <tr style=\"text-align: right;\">\n",
              "      <th></th>\n",
              "      <th>rank</th>\n",
              "      <th>name</th>\n",
              "      <th>nation</th>\n",
              "      <th>startnr</th>\n",
              "      <th>total</th>\n",
              "      <th>tech</th>\n",
              "      <th>pcs</th>\n",
              "      <th>deductions</th>\n",
              "      <th>element</th>\n",
              "      <th>call</th>\n",
              "      <th>base_value</th>\n",
              "      <th>goe</th>\n",
              "      <th>judges_scores</th>\n",
              "      <th>final_element_score</th>\n",
              "    </tr>\n",
              "  </thead>\n",
              "  <tbody>\n",
              "    <tr>\n",
              "      <th>0</th>\n",
              "      <td>1</td>\n",
              "      <td>Adam SIAO HIM FA</td>\n",
              "      <td>FRA</td>\n",
              "      <td>34</td>\n",
              "      <td>93.12</td>\n",
              "      <td>49.58</td>\n",
              "      <td>43.54</td>\n",
              "      <td>0.0</td>\n",
              "      <td>4T+3Tq</td>\n",
              "      <td>q</td>\n",
              "      <td>13.70</td>\n",
              "      <td>-1.49</td>\n",
              "      <td>[-1.0, -2.0, -3.0, -1.0, -1.0, 1.0, -3.0, -1.0]</td>\n",
              "      <td>12.21</td>\n",
              "    </tr>\n",
              "    <tr>\n",
              "      <th>1</th>\n",
              "      <td>1</td>\n",
              "      <td>Adam SIAO HIM FA</td>\n",
              "      <td>FRA</td>\n",
              "      <td>34</td>\n",
              "      <td>93.12</td>\n",
              "      <td>49.58</td>\n",
              "      <td>43.54</td>\n",
              "      <td>0.0</td>\n",
              "      <td>4S</td>\n",
              "      <td>None</td>\n",
              "      <td>9.70</td>\n",
              "      <td>-0.83</td>\n",
              "      <td>[0.0, 1.0, -1.0, -1.0, -1.0, 0.0, -2.0, -1.0]</td>\n",
              "      <td>8.87</td>\n",
              "    </tr>\n",
              "    <tr>\n",
              "      <th>2</th>\n",
              "      <td>1</td>\n",
              "      <td>Adam SIAO HIM FA</td>\n",
              "      <td>FRA</td>\n",
              "      <td>34</td>\n",
              "      <td>93.12</td>\n",
              "      <td>49.58</td>\n",
              "      <td>43.54</td>\n",
              "      <td>0.0</td>\n",
              "      <td>CCoSp4</td>\n",
              "      <td>None</td>\n",
              "      <td>3.50</td>\n",
              "      <td>0.90</td>\n",
              "      <td>[2.0, 3.0, 3.0, 2.0, 3.0, 3.0, 2.0, 2.0]</td>\n",
              "      <td>4.40</td>\n",
              "    </tr>\n",
              "    <tr>\n",
              "      <th>3</th>\n",
              "      <td>1</td>\n",
              "      <td>Adam SIAO HIM FA</td>\n",
              "      <td>FRA</td>\n",
              "      <td>34</td>\n",
              "      <td>93.12</td>\n",
              "      <td>49.58</td>\n",
              "      <td>43.54</td>\n",
              "      <td>0.0</td>\n",
              "      <td>3A</td>\n",
              "      <td>x</td>\n",
              "      <td>8.80</td>\n",
              "      <td>2.06</td>\n",
              "      <td>[3.0, 2.0, 2.0, 3.0, 3.0, 2.0, 3.0, 2.0]</td>\n",
              "      <td>10.86</td>\n",
              "    </tr>\n",
              "    <tr>\n",
              "      <th>4</th>\n",
              "      <td>1</td>\n",
              "      <td>Adam SIAO HIM FA</td>\n",
              "      <td>FRA</td>\n",
              "      <td>34</td>\n",
              "      <td>93.12</td>\n",
              "      <td>49.58</td>\n",
              "      <td>43.54</td>\n",
              "      <td>0.0</td>\n",
              "      <td>StSq4</td>\n",
              "      <td>None</td>\n",
              "      <td>3.90</td>\n",
              "      <td>1.84</td>\n",
              "      <td>[4.0, 5.0, 3.0, 4.0, 5.0, 5.0, 5.0, 5.0]</td>\n",
              "      <td>5.74</td>\n",
              "    </tr>\n",
              "    <tr>\n",
              "      <th>...</th>\n",
              "      <td>...</td>\n",
              "      <td>...</td>\n",
              "      <td>...</td>\n",
              "      <td>...</td>\n",
              "      <td>...</td>\n",
              "      <td>...</td>\n",
              "      <td>...</td>\n",
              "      <td>...</td>\n",
              "      <td>...</td>\n",
              "      <td>...</td>\n",
              "      <td>...</td>\n",
              "      <td>...</td>\n",
              "      <td>...</td>\n",
              "      <td>...</td>\n",
              "    </tr>\n",
              "    <tr>\n",
              "      <th>233</th>\n",
              "      <td>34</td>\n",
              "      <td>Jari KESSLER</td>\n",
              "      <td>CRO</td>\n",
              "      <td>6</td>\n",
              "      <td>50.83</td>\n",
              "      <td>19.73</td>\n",
              "      <td>32.10</td>\n",
              "      <td>-1.0</td>\n",
              "      <td>FSSp1</td>\n",
              "      <td>None</td>\n",
              "      <td>2.00</td>\n",
              "      <td>-0.06</td>\n",
              "      <td>[-1.0, 0.0, -2.0, 1.0, -1.0, 1.0, -1.0, 0.0]</td>\n",
              "      <td>1.94</td>\n",
              "    </tr>\n",
              "    <tr>\n",
              "      <th>234</th>\n",
              "      <td>34</td>\n",
              "      <td>Jari KESSLER</td>\n",
              "      <td>CRO</td>\n",
              "      <td>6</td>\n",
              "      <td>50.83</td>\n",
              "      <td>19.73</td>\n",
              "      <td>32.10</td>\n",
              "      <td>-1.0</td>\n",
              "      <td>2A</td>\n",
              "      <td>x</td>\n",
              "      <td>3.63</td>\n",
              "      <td>0.38</td>\n",
              "      <td>[0.0, 2.0, 1.0, 1.0, 3.0, 2.0, 2.0, 0.0]</td>\n",
              "      <td>4.01</td>\n",
              "    </tr>\n",
              "    <tr>\n",
              "      <th>235</th>\n",
              "      <td>34</td>\n",
              "      <td>Jari KESSLER</td>\n",
              "      <td>CRO</td>\n",
              "      <td>6</td>\n",
              "      <td>50.83</td>\n",
              "      <td>19.73</td>\n",
              "      <td>32.10</td>\n",
              "      <td>-1.0</td>\n",
              "      <td>CCSp4</td>\n",
              "      <td>None</td>\n",
              "      <td>3.20</td>\n",
              "      <td>0.27</td>\n",
              "      <td>[-1.0, 0.0, 2.0, 0.0, 1.0, 0.0, 2.0, 1.0]</td>\n",
              "      <td>3.47</td>\n",
              "    </tr>\n",
              "    <tr>\n",
              "      <th>236</th>\n",
              "      <td>34</td>\n",
              "      <td>Jari KESSLER</td>\n",
              "      <td>CRO</td>\n",
              "      <td>6</td>\n",
              "      <td>50.83</td>\n",
              "      <td>19.73</td>\n",
              "      <td>32.10</td>\n",
              "      <td>-1.0</td>\n",
              "      <td>StSq3</td>\n",
              "      <td>None</td>\n",
              "      <td>3.30</td>\n",
              "      <td>0.47</td>\n",
              "      <td>[2.0, 1.0, 2.0, 1.0, 2.0, 2.0, 1.0, 1.0]</td>\n",
              "      <td>3.77</td>\n",
              "    </tr>\n",
              "    <tr>\n",
              "      <th>237</th>\n",
              "      <td>34</td>\n",
              "      <td>Jari KESSLER</td>\n",
              "      <td>CRO</td>\n",
              "      <td>6</td>\n",
              "      <td>50.83</td>\n",
              "      <td>19.73</td>\n",
              "      <td>32.10</td>\n",
              "      <td>-1.0</td>\n",
              "      <td>CCoSp3</td>\n",
              "      <td>None</td>\n",
              "      <td>3.00</td>\n",
              "      <td>0.04</td>\n",
              "      <td>[2.0, 1.0, 1.0, 1.0, 1.0, -2.0, 0.0, -2.0]</td>\n",
              "      <td>3.04</td>\n",
              "    </tr>\n",
              "  </tbody>\n",
              "</table>\n",
              "<p>238 rows × 14 columns</p>\n",
              "</div>\n",
              "    <div class=\"colab-df-buttons\">\n",
              "\n",
              "  <div class=\"colab-df-container\">\n",
              "    <button class=\"colab-df-convert\" onclick=\"convertToInteractive('df-8c8c9177-dd30-4e48-8f71-71fae6554d3c')\"\n",
              "            title=\"Convert this dataframe to an interactive table.\"\n",
              "            style=\"display:none;\">\n",
              "\n",
              "  <svg xmlns=\"http://www.w3.org/2000/svg\" height=\"24px\" viewBox=\"0 -960 960 960\">\n",
              "    <path d=\"M120-120v-720h720v720H120Zm60-500h600v-160H180v160Zm220 220h160v-160H400v160Zm0 220h160v-160H400v160ZM180-400h160v-160H180v160Zm440 0h160v-160H620v160ZM180-180h160v-160H180v160Zm440 0h160v-160H620v160Z\"/>\n",
              "  </svg>\n",
              "    </button>\n",
              "\n",
              "  <style>\n",
              "    .colab-df-container {\n",
              "      display:flex;\n",
              "      gap: 12px;\n",
              "    }\n",
              "\n",
              "    .colab-df-convert {\n",
              "      background-color: #E8F0FE;\n",
              "      border: none;\n",
              "      border-radius: 50%;\n",
              "      cursor: pointer;\n",
              "      display: none;\n",
              "      fill: #1967D2;\n",
              "      height: 32px;\n",
              "      padding: 0 0 0 0;\n",
              "      width: 32px;\n",
              "    }\n",
              "\n",
              "    .colab-df-convert:hover {\n",
              "      background-color: #E2EBFA;\n",
              "      box-shadow: 0px 1px 2px rgba(60, 64, 67, 0.3), 0px 1px 3px 1px rgba(60, 64, 67, 0.15);\n",
              "      fill: #174EA6;\n",
              "    }\n",
              "\n",
              "    .colab-df-buttons div {\n",
              "      margin-bottom: 4px;\n",
              "    }\n",
              "\n",
              "    [theme=dark] .colab-df-convert {\n",
              "      background-color: #3B4455;\n",
              "      fill: #D2E3FC;\n",
              "    }\n",
              "\n",
              "    [theme=dark] .colab-df-convert:hover {\n",
              "      background-color: #434B5C;\n",
              "      box-shadow: 0px 1px 3px 1px rgba(0, 0, 0, 0.15);\n",
              "      filter: drop-shadow(0px 1px 2px rgba(0, 0, 0, 0.3));\n",
              "      fill: #FFFFFF;\n",
              "    }\n",
              "  </style>\n",
              "\n",
              "    <script>\n",
              "      const buttonEl =\n",
              "        document.querySelector('#df-8c8c9177-dd30-4e48-8f71-71fae6554d3c button.colab-df-convert');\n",
              "      buttonEl.style.display =\n",
              "        google.colab.kernel.accessAllowed ? 'block' : 'none';\n",
              "\n",
              "      async function convertToInteractive(key) {\n",
              "        const element = document.querySelector('#df-8c8c9177-dd30-4e48-8f71-71fae6554d3c');\n",
              "        const dataTable =\n",
              "          await google.colab.kernel.invokeFunction('convertToInteractive',\n",
              "                                                    [key], {});\n",
              "        if (!dataTable) return;\n",
              "\n",
              "        const docLinkHtml = 'Like what you see? Visit the ' +\n",
              "          '<a target=\"_blank\" href=https://colab.research.google.com/notebooks/data_table.ipynb>data table notebook</a>'\n",
              "          + ' to learn more about interactive tables.';\n",
              "        element.innerHTML = '';\n",
              "        dataTable['output_type'] = 'display_data';\n",
              "        await google.colab.output.renderOutput(dataTable, element);\n",
              "        const docLink = document.createElement('div');\n",
              "        docLink.innerHTML = docLinkHtml;\n",
              "        element.appendChild(docLink);\n",
              "      }\n",
              "    </script>\n",
              "  </div>\n",
              "\n",
              "\n",
              "<div id=\"df-c4d0b134-7d03-45ae-b361-aae78fdc5dd8\">\n",
              "  <button class=\"colab-df-quickchart\" onclick=\"quickchart('df-c4d0b134-7d03-45ae-b361-aae78fdc5dd8')\"\n",
              "            title=\"Suggest charts\"\n",
              "            style=\"display:none;\">\n",
              "\n",
              "<svg xmlns=\"http://www.w3.org/2000/svg\" height=\"24px\"viewBox=\"0 0 24 24\"\n",
              "     width=\"24px\">\n",
              "    <g>\n",
              "        <path d=\"M19 3H5c-1.1 0-2 .9-2 2v14c0 1.1.9 2 2 2h14c1.1 0 2-.9 2-2V5c0-1.1-.9-2-2-2zM9 17H7v-7h2v7zm4 0h-2V7h2v10zm4 0h-2v-4h2v4z\"/>\n",
              "    </g>\n",
              "</svg>\n",
              "  </button>\n",
              "\n",
              "<style>\n",
              "  .colab-df-quickchart {\n",
              "      --bg-color: #E8F0FE;\n",
              "      --fill-color: #1967D2;\n",
              "      --hover-bg-color: #E2EBFA;\n",
              "      --hover-fill-color: #174EA6;\n",
              "      --disabled-fill-color: #AAA;\n",
              "      --disabled-bg-color: #DDD;\n",
              "  }\n",
              "\n",
              "  [theme=dark] .colab-df-quickchart {\n",
              "      --bg-color: #3B4455;\n",
              "      --fill-color: #D2E3FC;\n",
              "      --hover-bg-color: #434B5C;\n",
              "      --hover-fill-color: #FFFFFF;\n",
              "      --disabled-bg-color: #3B4455;\n",
              "      --disabled-fill-color: #666;\n",
              "  }\n",
              "\n",
              "  .colab-df-quickchart {\n",
              "    background-color: var(--bg-color);\n",
              "    border: none;\n",
              "    border-radius: 50%;\n",
              "    cursor: pointer;\n",
              "    display: none;\n",
              "    fill: var(--fill-color);\n",
              "    height: 32px;\n",
              "    padding: 0;\n",
              "    width: 32px;\n",
              "  }\n",
              "\n",
              "  .colab-df-quickchart:hover {\n",
              "    background-color: var(--hover-bg-color);\n",
              "    box-shadow: 0 1px 2px rgba(60, 64, 67, 0.3), 0 1px 3px 1px rgba(60, 64, 67, 0.15);\n",
              "    fill: var(--button-hover-fill-color);\n",
              "  }\n",
              "\n",
              "  .colab-df-quickchart-complete:disabled,\n",
              "  .colab-df-quickchart-complete:disabled:hover {\n",
              "    background-color: var(--disabled-bg-color);\n",
              "    fill: var(--disabled-fill-color);\n",
              "    box-shadow: none;\n",
              "  }\n",
              "\n",
              "  .colab-df-spinner {\n",
              "    border: 2px solid var(--fill-color);\n",
              "    border-color: transparent;\n",
              "    border-bottom-color: var(--fill-color);\n",
              "    animation:\n",
              "      spin 1s steps(1) infinite;\n",
              "  }\n",
              "\n",
              "  @keyframes spin {\n",
              "    0% {\n",
              "      border-color: transparent;\n",
              "      border-bottom-color: var(--fill-color);\n",
              "      border-left-color: var(--fill-color);\n",
              "    }\n",
              "    20% {\n",
              "      border-color: transparent;\n",
              "      border-left-color: var(--fill-color);\n",
              "      border-top-color: var(--fill-color);\n",
              "    }\n",
              "    30% {\n",
              "      border-color: transparent;\n",
              "      border-left-color: var(--fill-color);\n",
              "      border-top-color: var(--fill-color);\n",
              "      border-right-color: var(--fill-color);\n",
              "    }\n",
              "    40% {\n",
              "      border-color: transparent;\n",
              "      border-right-color: var(--fill-color);\n",
              "      border-top-color: var(--fill-color);\n",
              "    }\n",
              "    60% {\n",
              "      border-color: transparent;\n",
              "      border-right-color: var(--fill-color);\n",
              "    }\n",
              "    80% {\n",
              "      border-color: transparent;\n",
              "      border-right-color: var(--fill-color);\n",
              "      border-bottom-color: var(--fill-color);\n",
              "    }\n",
              "    90% {\n",
              "      border-color: transparent;\n",
              "      border-bottom-color: var(--fill-color);\n",
              "    }\n",
              "  }\n",
              "</style>\n",
              "\n",
              "  <script>\n",
              "    async function quickchart(key) {\n",
              "      const quickchartButtonEl =\n",
              "        document.querySelector('#' + key + ' button');\n",
              "      quickchartButtonEl.disabled = true;  // To prevent multiple clicks.\n",
              "      quickchartButtonEl.classList.add('colab-df-spinner');\n",
              "      try {\n",
              "        const charts = await google.colab.kernel.invokeFunction(\n",
              "            'suggestCharts', [key], {});\n",
              "      } catch (error) {\n",
              "        console.error('Error during call to suggestCharts:', error);\n",
              "      }\n",
              "      quickchartButtonEl.classList.remove('colab-df-spinner');\n",
              "      quickchartButtonEl.classList.add('colab-df-quickchart-complete');\n",
              "    }\n",
              "    (() => {\n",
              "      let quickchartButtonEl =\n",
              "        document.querySelector('#df-c4d0b134-7d03-45ae-b361-aae78fdc5dd8 button');\n",
              "      quickchartButtonEl.style.display =\n",
              "        google.colab.kernel.accessAllowed ? 'block' : 'none';\n",
              "    })();\n",
              "  </script>\n",
              "</div>\n",
              "\n",
              "  <div id=\"id_22f758ef-dfa2-4a99-a0af-83a2f749134f\">\n",
              "    <style>\n",
              "      .colab-df-generate {\n",
              "        background-color: #E8F0FE;\n",
              "        border: none;\n",
              "        border-radius: 50%;\n",
              "        cursor: pointer;\n",
              "        display: none;\n",
              "        fill: #1967D2;\n",
              "        height: 32px;\n",
              "        padding: 0 0 0 0;\n",
              "        width: 32px;\n",
              "      }\n",
              "\n",
              "      .colab-df-generate:hover {\n",
              "        background-color: #E2EBFA;\n",
              "        box-shadow: 0px 1px 2px rgba(60, 64, 67, 0.3), 0px 1px 3px 1px rgba(60, 64, 67, 0.15);\n",
              "        fill: #174EA6;\n",
              "      }\n",
              "\n",
              "      [theme=dark] .colab-df-generate {\n",
              "        background-color: #3B4455;\n",
              "        fill: #D2E3FC;\n",
              "      }\n",
              "\n",
              "      [theme=dark] .colab-df-generate:hover {\n",
              "        background-color: #434B5C;\n",
              "        box-shadow: 0px 1px 3px 1px rgba(0, 0, 0, 0.15);\n",
              "        filter: drop-shadow(0px 1px 2px rgba(0, 0, 0, 0.3));\n",
              "        fill: #FFFFFF;\n",
              "      }\n",
              "    </style>\n",
              "    <button class=\"colab-df-generate\" onclick=\"generateWithVariable('df')\"\n",
              "            title=\"Generate code using this dataframe.\"\n",
              "            style=\"display:none;\">\n",
              "\n",
              "  <svg xmlns=\"http://www.w3.org/2000/svg\" height=\"24px\"viewBox=\"0 0 24 24\"\n",
              "       width=\"24px\">\n",
              "    <path d=\"M7,19H8.4L18.45,9,17,7.55,7,17.6ZM5,21V16.75L18.45,3.32a2,2,0,0,1,2.83,0l1.4,1.43a1.91,1.91,0,0,1,.58,1.4,1.91,1.91,0,0,1-.58,1.4L9.25,21ZM18.45,9,17,7.55Zm-12,3A5.31,5.31,0,0,0,4.9,8.1,5.31,5.31,0,0,0,1,6.5,5.31,5.31,0,0,0,4.9,4.9,5.31,5.31,0,0,0,6.5,1,5.31,5.31,0,0,0,8.1,4.9,5.31,5.31,0,0,0,12,6.5,5.46,5.46,0,0,0,6.5,12Z\"/>\n",
              "  </svg>\n",
              "    </button>\n",
              "    <script>\n",
              "      (() => {\n",
              "      const buttonEl =\n",
              "        document.querySelector('#id_22f758ef-dfa2-4a99-a0af-83a2f749134f button.colab-df-generate');\n",
              "      buttonEl.style.display =\n",
              "        google.colab.kernel.accessAllowed ? 'block' : 'none';\n",
              "\n",
              "      buttonEl.onclick = () => {\n",
              "        google.colab.notebook.generateWithVariable('df');\n",
              "      }\n",
              "      })();\n",
              "    </script>\n",
              "  </div>\n",
              "\n",
              "    </div>\n",
              "  </div>\n"
            ],
            "application/vnd.google.colaboratory.intrinsic+json": {
              "type": "dataframe",
              "variable_name": "df",
              "summary": "{\n  \"name\": \"df\",\n  \"rows\": 238,\n  \"fields\": [\n    {\n      \"column\": \"rank\",\n      \"properties\": {\n        \"dtype\": \"number\",\n        \"std\": 9,\n        \"min\": 1,\n        \"max\": 34,\n        \"num_unique_values\": 34,\n        \"samples\": [\n          16,\n          20,\n          28\n        ],\n        \"semantic_type\": \"\",\n        \"description\": \"\"\n      }\n    },\n    {\n      \"column\": \"name\",\n      \"properties\": {\n        \"dtype\": \"category\",\n        \"num_unique_values\": 34,\n        \"samples\": [\n          \"Edward APPLEBY\",\n          \"Georgii RESHTENKO\",\n          \"David SEDEJ\"\n        ],\n        \"semantic_type\": \"\",\n        \"description\": \"\"\n      }\n    },\n    {\n      \"column\": \"nation\",\n      \"properties\": {\n        \"dtype\": \"category\",\n        \"num_unique_values\": 26,\n        \"samples\": [\n          \"LAT\",\n          \"HUN\",\n          \"FRA\"\n        ],\n        \"semantic_type\": \"\",\n        \"description\": \"\"\n      }\n    },\n    {\n      \"column\": \"startnr\",\n      \"properties\": {\n        \"dtype\": \"number\",\n        \"std\": 9,\n        \"min\": 1,\n        \"max\": 34,\n        \"num_unique_values\": 34,\n        \"samples\": [\n          17,\n          16,\n          4\n        ],\n        \"semantic_type\": \"\",\n        \"description\": \"\"\n      }\n    },\n    {\n      \"column\": \"total\",\n      \"properties\": {\n        \"dtype\": \"number\",\n        \"std\": 11.182156796787794,\n        \"min\": 50.83,\n        \"max\": 93.12,\n        \"num_unique_values\": 34,\n        \"samples\": [\n          72.45,\n          68.05,\n          59.46\n        ],\n        \"semantic_type\": \"\",\n        \"description\": \"\"\n      }\n    },\n    {\n      \"column\": \"tech\",\n      \"properties\": {\n        \"dtype\": \"number\",\n        \"std\": 7.541114577549527,\n        \"min\": 19.73,\n        \"max\": 53.17,\n        \"num_unique_values\": 34,\n        \"samples\": [\n          38.74,\n          36.23,\n          32.09\n        ],\n        \"semantic_type\": \"\",\n        \"description\": \"\"\n      }\n    },\n    {\n      \"column\": \"pcs\",\n      \"properties\": {\n        \"dtype\": \"number\",\n        \"std\": 4.431784836880857,\n        \"min\": 25.63,\n        \"max\": 43.54,\n        \"num_unique_values\": 34,\n        \"samples\": [\n          33.71,\n          32.82,\n          27.37\n        ],\n        \"semantic_type\": \"\",\n        \"description\": \"\"\n      }\n    },\n    {\n      \"column\": \"deductions\",\n      \"properties\": {\n        \"dtype\": \"number\",\n        \"std\": 0.5045093259447762,\n        \"min\": -2.0,\n        \"max\": 0.0,\n        \"num_unique_values\": 3,\n        \"samples\": [\n          0.0,\n          -1.0,\n          -2.0\n        ],\n        \"semantic_type\": \"\",\n        \"description\": \"\"\n      }\n    },\n    {\n      \"column\": \"element\",\n      \"properties\": {\n        \"dtype\": \"category\",\n        \"num_unique_values\": 49,\n        \"samples\": [\n          \"CCoSp3\",\n          \"CSSp2\",\n          \"3Lo\"\n        ],\n        \"semantic_type\": \"\",\n        \"description\": \"\"\n      }\n    },\n    {\n      \"column\": \"call\",\n      \"properties\": {\n        \"dtype\": \"category\",\n        \"num_unique_values\": 12,\n        \"samples\": [\n          [\n            \"e\",\n            \"x\"\n          ],\n          [\n            \"F\",\n            \"q\"\n          ],\n          \"q\"\n        ],\n        \"semantic_type\": \"\",\n        \"description\": \"\"\n      }\n    },\n    {\n      \"column\": \"base_value\",\n      \"properties\": {\n        \"dtype\": \"number\",\n        \"std\": 3.0148581003027632,\n        \"min\": 0.0,\n        \"max\": 13.9,\n        \"num_unique_values\": 36,\n        \"samples\": [\n          4.9,\n          3.3,\n          6.49\n        ],\n        \"semantic_type\": \"\",\n        \"description\": \"\"\n      }\n    },\n    {\n      \"column\": \"goe\",\n      \"properties\": {\n        \"dtype\": \"number\",\n        \"std\": 1.2544820252118476,\n        \"min\": -4.85,\n        \"max\": 3.46,\n        \"num_unique_values\": 142,\n        \"samples\": [\n          0.24,\n          0.61,\n          0.26\n        ],\n        \"semantic_type\": \"\",\n        \"description\": \"\"\n      }\n    },\n    {\n      \"column\": \"judges_scores\",\n      \"properties\": {\n        \"dtype\": \"object\",\n        \"semantic_type\": \"\",\n        \"description\": \"\"\n      }\n    },\n    {\n      \"column\": \"final_element_score\",\n      \"properties\": {\n        \"dtype\": \"number\",\n        \"std\": 3.0594761584419543,\n        \"min\": 0.0,\n        \"max\": 15.84,\n        \"num_unique_values\": 176,\n        \"samples\": [\n          3.91,\n          3.6,\n          4.39\n        ],\n        \"semantic_type\": \"\",\n        \"description\": \"\"\n      }\n    }\n  ]\n}"
            }
          },
          "metadata": {},
          "execution_count": 345
        }
      ]
    }
  ]
}