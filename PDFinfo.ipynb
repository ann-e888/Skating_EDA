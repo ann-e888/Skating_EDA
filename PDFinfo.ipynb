{
  "nbformat": 4,
  "nbformat_minor": 0,
  "metadata": {
    "colab": {
      "provenance": [],
      "authorship_tag": "ABX9TyN//rDa1wnkvwuRXtjyAJwM",
      "include_colab_link": true
    },
    "kernelspec": {
      "name": "python3",
      "display_name": "Python 3"
    },
    "language_info": {
      "name": "python"
    }
  },
  "cells": [
    {
      "cell_type": "markdown",
      "metadata": {
        "id": "view-in-github",
        "colab_type": "text"
      },
      "source": [
        "<a href=\"https://colab.research.google.com/github/ann-e888/Skating_EDA/blob/main/PDFinfo.ipynb\" target=\"_parent\"><img src=\"https://colab.research.google.com/assets/colab-badge.svg\" alt=\"Open In Colab\"/></a>"
      ]
    },
    {
      "cell_type": "code",
      "execution_count": 51,
      "metadata": {
        "colab": {
          "base_uri": "https://localhost:8080/"
        },
        "id": "WkGFncaMOEqI",
        "outputId": "991bd221-b37b-4d9a-860f-5c96cb30ce8c",
        "collapsed": true
      },
      "outputs": [
        {
          "output_type": "stream",
          "name": "stdout",
          "text": [
            "Requirement already satisfied: pdfplumber in /usr/local/lib/python3.11/dist-packages (0.11.5)\n",
            "Requirement already satisfied: pdfminer.six==20231228 in /usr/local/lib/python3.11/dist-packages (from pdfplumber) (20231228)\n",
            "Requirement already satisfied: Pillow>=9.1 in /usr/local/lib/python3.11/dist-packages (from pdfplumber) (11.1.0)\n",
            "Requirement already satisfied: pypdfium2>=4.18.0 in /usr/local/lib/python3.11/dist-packages (from pdfplumber) (4.30.1)\n",
            "Requirement already satisfied: charset-normalizer>=2.0.0 in /usr/local/lib/python3.11/dist-packages (from pdfminer.six==20231228->pdfplumber) (3.4.1)\n",
            "Requirement already satisfied: cryptography>=36.0.0 in /usr/local/lib/python3.11/dist-packages (from pdfminer.six==20231228->pdfplumber) (43.0.3)\n",
            "Requirement already satisfied: cffi>=1.12 in /usr/local/lib/python3.11/dist-packages (from cryptography>=36.0.0->pdfminer.six==20231228->pdfplumber) (1.17.1)\n",
            "Requirement already satisfied: pycparser in /usr/local/lib/python3.11/dist-packages (from cffi>=1.12->cryptography>=36.0.0->pdfminer.six==20231228->pdfplumber) (2.22)\n"
          ]
        }
      ],
      "source": [
        "!pip install pdfplumber\n",
        "\n",
        "import pdfplumber"
      ]
    },
    {
      "cell_type": "code",
      "source": [
        "import ast\n",
        "import re\n",
        "\n",
        "import pandas as pd\n",
        "import numpy as np\n",
        "import matplotlib.pyplot as plt\n",
        "import seaborn as sns\n",
        "\n",
        "sns.set()"
      ],
      "metadata": {
        "id": "Qiq8UJtyz970"
      },
      "execution_count": 52,
      "outputs": []
    },
    {
      "cell_type": "code",
      "source": [
        "with pdfplumber.open('men_short_euros.pdf') as f:\n",
        "  tables = [page.extract_tables() for page in f.pages]"
      ],
      "metadata": {
        "id": "VPT-VTuvzbbK"
      },
      "execution_count": 53,
      "outputs": []
    },
    {
      "cell_type": "code",
      "source": [
        "single_entries = [x for page in tables for x in page]"
      ],
      "metadata": {
        "collapsed": true,
        "id": "VkRZsFbX7V2b"
      },
      "execution_count": 54,
      "outputs": []
    },
    {
      "cell_type": "code",
      "source": [
        "first_to_remove = 'Total Total\\nStarting Total Program Component\\nRank Name Nation Segment Element Total Deductions\\nNumber Score (factored)\\nScore Score\\n'\n",
        "second_to_remove = '# Executed Elements ofnI Base Scores of GOE J1 J2 J3 J4 J5 J6 J7 J8 J9 Ref.\\nValue Panel'\n",
        "third_to_remove = 'Deductions: '\n",
        "\n",
        "for i in range(len(single_entries)):\n",
        "    single_entries[i][0][0] = single_entries[i][0][0].replace(first_to_remove, '')\n",
        "    single_entries[i][1][0] = single_entries[i][1][0].replace(second_to_remove, '')\n",
        "    single_entries[i][2][0] = single_entries[i][2][0].replace(third_to_remove, '')"
      ],
      "metadata": {
        "id": "jkiL9pUoddNB"
      },
      "execution_count": 55,
      "outputs": []
    },
    {
      "cell_type": "code",
      "source": [
        "for index, skater in enumerate(single_entries):\n",
        "  if index < 6:\n",
        "    print(f\"Skater {index+1}: {skater}\\n\")"
      ],
      "metadata": {
        "colab": {
          "base_uri": "https://localhost:8080/"
        },
        "id": "x6EorN927EqU",
        "outputId": "1c237630-13d4-43a0-bd54-33c5a2464da5",
        "collapsed": true
      },
      "execution_count": 56,
      "outputs": [
        {
          "output_type": "stream",
          "name": "stdout",
          "text": [
            "Skater 1: [['1 Adam SIAO HIM FA FRA 34 93.12 49.58 43.54 0.00'], ['\\n1 4T+3Tq q 13.70 -1.49 -1 -2 -3 -1 -1 1 -3 -1 -2 12.21\\n2 4S 9.70 -0.83 0 1 -1 -1 -1 0 -2 -1 -2 8.87\\n3 CCoSp4 3.50 0.90 2 3 3 2 3 3 2 2 3 4.40\\n4 3A 8.80 x 2.06 3 2 2 3 3 2 3 2 3 10.86\\n5 StSq4 3.90 1.84 4 5 3 4 5 5 5 5 5 5.74\\n6 FCSp3 2.80 0.76 3 1 2 3 3 3 2 3 3 3.56\\n7 CSSp4 3.00 0.94 3 3 3 2 3 3 4 5 3 3.94\\n45.40 49.58\\nProgram Components Factor\\nComposition 1.67 8.75 9.00 8.50 8.50 9.00 8.75 8.50 9.25 8.50 8.71\\nPresentation 1.67 9.00 8.75 8.25 8.75 8.75 8.50 8.25 9.25 8.25 8.61\\nSkating Skills 1.67 8.75 8.75 8.50 8.75 9.25 8.75 8.50 9.50 8.50 8.75\\nJudges Total Program Component Score (factored) 43.54'], ['0.00']]\n",
            "\n",
            "Skater 2: [['2 Nika EGADZE GEO 29 91.94 53.17 38.77 0.00'], ['\\n1 4S+3T 13.90 1.94 2 2 2 1 2 2 3 2 2 15.84\\n2 4T 9.50 2.44 1 3 3 1 4 2 3 3 3 11.94\\n3 FCSp3 2.80 0.36 2 2 1 1 1 1 1 1 2 3.16\\n4 3A 8.80 x 1.71 2 2 2 2 3 3 2 1 2 10.51\\n5 CSSp4 3.00 -0.13 0 0 1 1 -2 -1 -1 -2 0 2.87\\n6 StSq4 3.90 1.00 3 3 2 2 2 3 3 3 2 4.90\\n7 CCoSp4 3.50 0.45 2 2 2 1 1 0 0 1 2 3.95\\n45.40 53.17\\nProgram Components Factor\\nComposition 1.67 7.50 7.75 8.00 7.25 7.50 7.00 8.25 8.00 8.00 7.71\\nPresentation 1.67 7.75 8.25 7.75 7.50 6.75 7.00 8.00 7.75 8.00 7.68\\nSkating Skills 1.67 7.50 7.75 8.00 7.75 7.75 7.50 8.00 8.50 8.00 7.82\\nJudges Total Program Component Score (factored) 38.77'], ['0.00']]\n",
            "\n",
            "Skater 3: [['3 Vladimir SAMOILOV POL 24 85.98 48.63 37.35 0.00'], ['\\n1 4S 9.70 3.46 3 4 3 2 4 3 4 4 4 13.16\\n2 3A 8.00 1.60 2 2 2 1 2 2 2 2 2 9.60\\n3 CCSp4 3.20 0.82 2 3 2 2 3 2 3 3 3 4.02\\n4 3Lz!+3T ! 11.11 x 0.00 0 0 -1 0 1 1 -1 0 0 11.11\\n5 FSSp3 2.60 0.33 1 2 1 1 2 1 1 1 2 2.93\\n6 StSq3 3.30 0.61 2 3 1 1 2 2 2 2 2 3.91\\n7 CCoSp3 3.00 0.90 3 3 3 2 3 3 4 3 3 3.90\\n40.91 48.63\\nProgram Components Factor\\nComposition 1.67 7.50 7.75 7.25 7.50 6.00 7.25 7.50 7.50 7.00 7.36\\nPresentation 1.67 7.75 8.00 7.25 7.50 6.75 7.25 7.50 7.75 7.50 7.50\\nSkating Skills 1.67 7.50 7.75 7.50 7.75 7.25 7.00 7.75 8.00 7.00 7.50\\nJudges Total Program Component Score (factored) 37.35'], ['0.00']]\n",
            "\n",
            "Skater 4: [['4 Matteo RIZZO ITA 32 85.68 44.42 41.26 0.00'], ['\\n1 4T 9.50 2.85 3 4 3 2 4 3 3 2 3 12.35\\n2 3Lz!+3T ! 10.10 0.25 0 1 -1 0 1 1 0 1 0 10.35\\n3 CCSp3 2.80 0.32 1 -1 1 2 2 2 0 1 1 3.12\\n4 3A 8.80 x -2.51 -3 -4 -4 -3 -3 -3 -3 -2 -3 6.29\\n5 CCoSp3 3.00 0.51 3 -1 2 3 4 0 1 1 2 3.51\\n6 StSq4 3.90 1.39 4 3 2 3 4 4 4 5 3 5.29\\n7 FSSp4 3.00 0.51 1 2 2 3 2 2 1 2 1 3.51\\n41.10 44.42\\nProgram Components Factor\\nComposition 1.67 8.50 8.25 8.00 8.50 7.75 8.00 8.00 9.00 7.75 8.14\\nPresentation 1.67 8.75 8.50 7.50 8.75 8.25 8.00 8.25 8.75 8.00 8.36\\nSkating Skills 1.67 8.50 8.25 8.00 8.50 8.25 8.00 8.00 9.25 8.00 8.21\\nJudges Total Program Component Score (factored) 41.26'], ['0.00']]\n",
            "\n",
            "Skater 5: [['5 Nikolaj MEMOLA ITA 28 84.92 46.99 37.93 0.00'], ['\\n1 4Lz! ! 11.50 0.82 0 2 0 0 2 1 1 0 1 12.32\\n2 3A 8.00 1.49 2 2 1 2 2 2 2 1 2 9.49\\n3 CCSp3 2.80 0.36 1 2 1 1 2 1 1 1 3 3.16\\n4 3Lz!+3T ! 11.11 x 0.08 0 1 0 -1 1 0 0 0 0 11.19\\n5 StSq4 3.90 0.78 3 2 2 1 3 2 2 1 2 4.68\\n6 FSSp3 2.60 0.04 1 0 -1 0 1 0 0 0 0 2.64\\n7 CCoSp3 3.00 0.51 2 3 2 1 2 1 1 2 2 3.51\\n42.91 46.99\\nProgram Components Factor\\nComposition 1.67 7.75 7.25 7.75 7.50 7.00 7.00 7.75 7.25 7.75 7.46\\nPresentation 1.67 8.00 7.50 7.50 7.75 8.00 7.00 7.50 7.75 8.00 7.71\\nSkating Skills 1.67 7.75 7.25 7.50 7.50 7.75 7.00 7.50 7.50 7.75 7.54\\nJudges Total Program Component Score (factored) 37.93'], ['0.00']]\n",
            "\n",
            "Skater 6: [['6 Mihhail SELEVKO EST 19 84.85 45.60 39.25 0.00'], ['\\n1 4T 9.50 0.41 0 1 0 1 0 1 0 0 1 9.91\\n2 3F+3T 9.50 1.06 2 2 2 2 3 2 2 2 2 10.56\\n3 CCSp4 3.20 0.46 1 3 2 1 2 1 2 1 1 3.66\\n4 3A 8.80 x 1.94 2 3 2 2 3 2 3 2 3 10.74\\n5 StSq4 3.90 1.34 3 4 3 3 5 4 4 3 3 5.24\\n6 FSSp3 2.60 0.19 1 1 0 2 2 0 1 0 0 2.79\\n7 CCoSp3V 2.25 0.45 2 2 2 2 3 2 2 1 2 2.70\\n39.75 45.60\\nProgram Components Factor\\nComposition 1.67 7.75 8.00 7.75 8.00 8.50 7.50 8.00 7.00 8.00 7.86\\nPresentation 1.67 8.00 8.25 7.75 8.00 9.00 7.50 8.00 7.50 8.50 8.00\\nSkating Skills 1.67 7.50 7.75 7.50 7.75 8.25 7.25 7.75 7.25 8.00 7.64\\nJudges Total Program Component Score (factored) 39.25'], ['0.00']]\n",
            "\n"
          ]
        }
      ]
    },
    {
      "cell_type": "code",
      "source": [
        "single_entries[0][0][0]"
      ],
      "metadata": {
        "colab": {
          "base_uri": "https://localhost:8080/",
          "height": 36
        },
        "id": "dhM4Q3xmcoLM",
        "outputId": "55ef7273-1268-4f97-a045-5f6071dfb92c"
      },
      "execution_count": 57,
      "outputs": [
        {
          "output_type": "execute_result",
          "data": {
            "text/plain": [
              "'1 Adam SIAO HIM FA FRA 34 93.12 49.58 43.54 0.00'"
            ],
            "application/vnd.google.colaboratory.intrinsic+json": {
              "type": "string"
            }
          },
          "metadata": {},
          "execution_count": 57
        }
      ]
    },
    {
      "cell_type": "code",
      "source": [
        "skater_info = single_entries[0][0][0].split(\" \")\n",
        "\n",
        "skater_name = \" \".join(skater_info[1:-6])\n",
        "skater_rank = skater_info[0]\n",
        "skater_nation = skater_info[-6]\n",
        "skater_startnr = skater_info[-5]\n",
        "segment_total = skater_info[-4]\n",
        "segment_tech = skater_info[-3]\n",
        "segment_psc = skater_info[-2]\n",
        "segment_deduction = skater_info[-1]\n",
        "\n",
        "data = [skater_rank, skater_name, skater_nation, skater_startnr, segment_total, segment_tech, segment_psc, segment_deduction]\n",
        "data"
      ],
      "metadata": {
        "colab": {
          "base_uri": "https://localhost:8080/"
        },
        "id": "PnqrefcR657l",
        "outputId": "940f4858-3357-4889-fa24-6bc96c02b907"
      },
      "execution_count": 58,
      "outputs": [
        {
          "output_type": "execute_result",
          "data": {
            "text/plain": [
              "['1', 'Adam SIAO HIM FA', 'FRA', '34', '93.12', '49.58', '43.54', '0.00']"
            ]
          },
          "metadata": {},
          "execution_count": 58
        }
      ]
    },
    {
      "cell_type": "code",
      "source": [
        "df = pd.DataFrame([data], columns=['rank', 'name', 'nation', 'startnr', 'total', 'tech', 'pcs', 'deductions'])\n",
        "\n",
        "df"
      ],
      "metadata": {
        "colab": {
          "base_uri": "https://localhost:8080/",
          "height": 89
        },
        "id": "cZgGS12ocYVi",
        "outputId": "211bb507-bfb2-477e-d482-3f6071229d61"
      },
      "execution_count": 59,
      "outputs": [
        {
          "output_type": "execute_result",
          "data": {
            "text/plain": [
              "  rank              name nation startnr  total   tech    pcs deductions\n",
              "0    1  Adam SIAO HIM FA    FRA      34  93.12  49.58  43.54       0.00"
            ],
            "text/html": [
              "\n",
              "  <div id=\"df-4b05904b-5749-4372-87f5-cf3ab3defe63\" class=\"colab-df-container\">\n",
              "    <div>\n",
              "<style scoped>\n",
              "    .dataframe tbody tr th:only-of-type {\n",
              "        vertical-align: middle;\n",
              "    }\n",
              "\n",
              "    .dataframe tbody tr th {\n",
              "        vertical-align: top;\n",
              "    }\n",
              "\n",
              "    .dataframe thead th {\n",
              "        text-align: right;\n",
              "    }\n",
              "</style>\n",
              "<table border=\"1\" class=\"dataframe\">\n",
              "  <thead>\n",
              "    <tr style=\"text-align: right;\">\n",
              "      <th></th>\n",
              "      <th>rank</th>\n",
              "      <th>name</th>\n",
              "      <th>nation</th>\n",
              "      <th>startnr</th>\n",
              "      <th>total</th>\n",
              "      <th>tech</th>\n",
              "      <th>pcs</th>\n",
              "      <th>deductions</th>\n",
              "    </tr>\n",
              "  </thead>\n",
              "  <tbody>\n",
              "    <tr>\n",
              "      <th>0</th>\n",
              "      <td>1</td>\n",
              "      <td>Adam SIAO HIM FA</td>\n",
              "      <td>FRA</td>\n",
              "      <td>34</td>\n",
              "      <td>93.12</td>\n",
              "      <td>49.58</td>\n",
              "      <td>43.54</td>\n",
              "      <td>0.00</td>\n",
              "    </tr>\n",
              "  </tbody>\n",
              "</table>\n",
              "</div>\n",
              "    <div class=\"colab-df-buttons\">\n",
              "\n",
              "  <div class=\"colab-df-container\">\n",
              "    <button class=\"colab-df-convert\" onclick=\"convertToInteractive('df-4b05904b-5749-4372-87f5-cf3ab3defe63')\"\n",
              "            title=\"Convert this dataframe to an interactive table.\"\n",
              "            style=\"display:none;\">\n",
              "\n",
              "  <svg xmlns=\"http://www.w3.org/2000/svg\" height=\"24px\" viewBox=\"0 -960 960 960\">\n",
              "    <path d=\"M120-120v-720h720v720H120Zm60-500h600v-160H180v160Zm220 220h160v-160H400v160Zm0 220h160v-160H400v160ZM180-400h160v-160H180v160Zm440 0h160v-160H620v160ZM180-180h160v-160H180v160Zm440 0h160v-160H620v160Z\"/>\n",
              "  </svg>\n",
              "    </button>\n",
              "\n",
              "  <style>\n",
              "    .colab-df-container {\n",
              "      display:flex;\n",
              "      gap: 12px;\n",
              "    }\n",
              "\n",
              "    .colab-df-convert {\n",
              "      background-color: #E8F0FE;\n",
              "      border: none;\n",
              "      border-radius: 50%;\n",
              "      cursor: pointer;\n",
              "      display: none;\n",
              "      fill: #1967D2;\n",
              "      height: 32px;\n",
              "      padding: 0 0 0 0;\n",
              "      width: 32px;\n",
              "    }\n",
              "\n",
              "    .colab-df-convert:hover {\n",
              "      background-color: #E2EBFA;\n",
              "      box-shadow: 0px 1px 2px rgba(60, 64, 67, 0.3), 0px 1px 3px 1px rgba(60, 64, 67, 0.15);\n",
              "      fill: #174EA6;\n",
              "    }\n",
              "\n",
              "    .colab-df-buttons div {\n",
              "      margin-bottom: 4px;\n",
              "    }\n",
              "\n",
              "    [theme=dark] .colab-df-convert {\n",
              "      background-color: #3B4455;\n",
              "      fill: #D2E3FC;\n",
              "    }\n",
              "\n",
              "    [theme=dark] .colab-df-convert:hover {\n",
              "      background-color: #434B5C;\n",
              "      box-shadow: 0px 1px 3px 1px rgba(0, 0, 0, 0.15);\n",
              "      filter: drop-shadow(0px 1px 2px rgba(0, 0, 0, 0.3));\n",
              "      fill: #FFFFFF;\n",
              "    }\n",
              "  </style>\n",
              "\n",
              "    <script>\n",
              "      const buttonEl =\n",
              "        document.querySelector('#df-4b05904b-5749-4372-87f5-cf3ab3defe63 button.colab-df-convert');\n",
              "      buttonEl.style.display =\n",
              "        google.colab.kernel.accessAllowed ? 'block' : 'none';\n",
              "\n",
              "      async function convertToInteractive(key) {\n",
              "        const element = document.querySelector('#df-4b05904b-5749-4372-87f5-cf3ab3defe63');\n",
              "        const dataTable =\n",
              "          await google.colab.kernel.invokeFunction('convertToInteractive',\n",
              "                                                    [key], {});\n",
              "        if (!dataTable) return;\n",
              "\n",
              "        const docLinkHtml = 'Like what you see? Visit the ' +\n",
              "          '<a target=\"_blank\" href=https://colab.research.google.com/notebooks/data_table.ipynb>data table notebook</a>'\n",
              "          + ' to learn more about interactive tables.';\n",
              "        element.innerHTML = '';\n",
              "        dataTable['output_type'] = 'display_data';\n",
              "        await google.colab.output.renderOutput(dataTable, element);\n",
              "        const docLink = document.createElement('div');\n",
              "        docLink.innerHTML = docLinkHtml;\n",
              "        element.appendChild(docLink);\n",
              "      }\n",
              "    </script>\n",
              "  </div>\n",
              "\n",
              "\n",
              "  <div id=\"id_a2ab13d0-b960-4e39-bae7-9910956dca7b\">\n",
              "    <style>\n",
              "      .colab-df-generate {\n",
              "        background-color: #E8F0FE;\n",
              "        border: none;\n",
              "        border-radius: 50%;\n",
              "        cursor: pointer;\n",
              "        display: none;\n",
              "        fill: #1967D2;\n",
              "        height: 32px;\n",
              "        padding: 0 0 0 0;\n",
              "        width: 32px;\n",
              "      }\n",
              "\n",
              "      .colab-df-generate:hover {\n",
              "        background-color: #E2EBFA;\n",
              "        box-shadow: 0px 1px 2px rgba(60, 64, 67, 0.3), 0px 1px 3px 1px rgba(60, 64, 67, 0.15);\n",
              "        fill: #174EA6;\n",
              "      }\n",
              "\n",
              "      [theme=dark] .colab-df-generate {\n",
              "        background-color: #3B4455;\n",
              "        fill: #D2E3FC;\n",
              "      }\n",
              "\n",
              "      [theme=dark] .colab-df-generate:hover {\n",
              "        background-color: #434B5C;\n",
              "        box-shadow: 0px 1px 3px 1px rgba(0, 0, 0, 0.15);\n",
              "        filter: drop-shadow(0px 1px 2px rgba(0, 0, 0, 0.3));\n",
              "        fill: #FFFFFF;\n",
              "      }\n",
              "    </style>\n",
              "    <button class=\"colab-df-generate\" onclick=\"generateWithVariable('df')\"\n",
              "            title=\"Generate code using this dataframe.\"\n",
              "            style=\"display:none;\">\n",
              "\n",
              "  <svg xmlns=\"http://www.w3.org/2000/svg\" height=\"24px\"viewBox=\"0 0 24 24\"\n",
              "       width=\"24px\">\n",
              "    <path d=\"M7,19H8.4L18.45,9,17,7.55,7,17.6ZM5,21V16.75L18.45,3.32a2,2,0,0,1,2.83,0l1.4,1.43a1.91,1.91,0,0,1,.58,1.4,1.91,1.91,0,0,1-.58,1.4L9.25,21ZM18.45,9,17,7.55Zm-12,3A5.31,5.31,0,0,0,4.9,8.1,5.31,5.31,0,0,0,1,6.5,5.31,5.31,0,0,0,4.9,4.9,5.31,5.31,0,0,0,6.5,1,5.31,5.31,0,0,0,8.1,4.9,5.31,5.31,0,0,0,12,6.5,5.46,5.46,0,0,0,6.5,12Z\"/>\n",
              "  </svg>\n",
              "    </button>\n",
              "    <script>\n",
              "      (() => {\n",
              "      const buttonEl =\n",
              "        document.querySelector('#id_a2ab13d0-b960-4e39-bae7-9910956dca7b button.colab-df-generate');\n",
              "      buttonEl.style.display =\n",
              "        google.colab.kernel.accessAllowed ? 'block' : 'none';\n",
              "\n",
              "      buttonEl.onclick = () => {\n",
              "        google.colab.notebook.generateWithVariable('df');\n",
              "      }\n",
              "      })();\n",
              "    </script>\n",
              "  </div>\n",
              "\n",
              "    </div>\n",
              "  </div>\n"
            ],
            "application/vnd.google.colaboratory.intrinsic+json": {
              "type": "dataframe",
              "variable_name": "df",
              "summary": "{\n  \"name\": \"df\",\n  \"rows\": 1,\n  \"fields\": [\n    {\n      \"column\": \"rank\",\n      \"properties\": {\n        \"dtype\": \"string\",\n        \"num_unique_values\": 1,\n        \"samples\": [\n          \"1\"\n        ],\n        \"semantic_type\": \"\",\n        \"description\": \"\"\n      }\n    },\n    {\n      \"column\": \"name\",\n      \"properties\": {\n        \"dtype\": \"string\",\n        \"num_unique_values\": 1,\n        \"samples\": [\n          \"Adam SIAO HIM FA\"\n        ],\n        \"semantic_type\": \"\",\n        \"description\": \"\"\n      }\n    },\n    {\n      \"column\": \"nation\",\n      \"properties\": {\n        \"dtype\": \"string\",\n        \"num_unique_values\": 1,\n        \"samples\": [\n          \"FRA\"\n        ],\n        \"semantic_type\": \"\",\n        \"description\": \"\"\n      }\n    },\n    {\n      \"column\": \"startnr\",\n      \"properties\": {\n        \"dtype\": \"string\",\n        \"num_unique_values\": 1,\n        \"samples\": [\n          \"34\"\n        ],\n        \"semantic_type\": \"\",\n        \"description\": \"\"\n      }\n    },\n    {\n      \"column\": \"total\",\n      \"properties\": {\n        \"dtype\": \"string\",\n        \"num_unique_values\": 1,\n        \"samples\": [\n          \"93.12\"\n        ],\n        \"semantic_type\": \"\",\n        \"description\": \"\"\n      }\n    },\n    {\n      \"column\": \"tech\",\n      \"properties\": {\n        \"dtype\": \"string\",\n        \"num_unique_values\": 1,\n        \"samples\": [\n          \"49.58\"\n        ],\n        \"semantic_type\": \"\",\n        \"description\": \"\"\n      }\n    },\n    {\n      \"column\": \"pcs\",\n      \"properties\": {\n        \"dtype\": \"string\",\n        \"num_unique_values\": 1,\n        \"samples\": [\n          \"43.54\"\n        ],\n        \"semantic_type\": \"\",\n        \"description\": \"\"\n      }\n    },\n    {\n      \"column\": \"deductions\",\n      \"properties\": {\n        \"dtype\": \"string\",\n        \"num_unique_values\": 1,\n        \"samples\": [\n          \"0.00\"\n        ],\n        \"semantic_type\": \"\",\n        \"description\": \"\"\n      }\n    }\n  ]\n}"
            }
          },
          "metadata": {},
          "execution_count": 59
        }
      ]
    },
    {
      "cell_type": "code",
      "source": [
        "single_entries[0][1][0]"
      ],
      "metadata": {
        "colab": {
          "base_uri": "https://localhost:8080/",
          "height": 90
        },
        "id": "GNnLNdnuoo4-",
        "outputId": "a02b7962-4774-4883-c6c3-431a00593fba"
      },
      "execution_count": 60,
      "outputs": [
        {
          "output_type": "execute_result",
          "data": {
            "text/plain": [
              "'\\n1 4T+3Tq q 13.70 -1.49 -1 -2 -3 -1 -1 1 -3 -1 -2 12.21\\n2 4S 9.70 -0.83 0 1 -1 -1 -1 0 -2 -1 -2 8.87\\n3 CCoSp4 3.50 0.90 2 3 3 2 3 3 2 2 3 4.40\\n4 3A 8.80 x 2.06 3 2 2 3 3 2 3 2 3 10.86\\n5 StSq4 3.90 1.84 4 5 3 4 5 5 5 5 5 5.74\\n6 FCSp3 2.80 0.76 3 1 2 3 3 3 2 3 3 3.56\\n7 CSSp4 3.00 0.94 3 3 3 2 3 3 4 5 3 3.94\\n45.40 49.58\\nProgram Components Factor\\nComposition 1.67 8.75 9.00 8.50 8.50 9.00 8.75 8.50 9.25 8.50 8.71\\nPresentation 1.67 9.00 8.75 8.25 8.75 8.75 8.50 8.25 9.25 8.25 8.61\\nSkating Skills 1.67 8.75 8.75 8.50 8.75 9.25 8.75 8.50 9.50 8.50 8.75\\nJudges Total Program Component Score (factored) 43.54'"
            ],
            "application/vnd.google.colaboratory.intrinsic+json": {
              "type": "string"
            }
          },
          "metadata": {},
          "execution_count": 60
        }
      ]
    },
    {
      "cell_type": "code",
      "source": [
        "element_data = single_entries[0][1][0].split('\\n')[1:]\n",
        "\n",
        "del element_data[-6:]\n",
        "\n",
        "element_data"
      ],
      "metadata": {
        "colab": {
          "base_uri": "https://localhost:8080/"
        },
        "id": "-KipsNkRn7b-",
        "outputId": "1525175f-c9d0-47af-8bbe-9028b9966873"
      },
      "execution_count": 61,
      "outputs": [
        {
          "output_type": "execute_result",
          "data": {
            "text/plain": [
              "['1 4T+3Tq q 13.70 -1.49 -1 -2 -3 -1 -1 1 -3 -1 -2 12.21',\n",
              " '2 4S 9.70 -0.83 0 1 -1 -1 -1 0 -2 -1 -2 8.87',\n",
              " '3 CCoSp4 3.50 0.90 2 3 3 2 3 3 2 2 3 4.40',\n",
              " '4 3A 8.80 x 2.06 3 2 2 3 3 2 3 2 3 10.86',\n",
              " '5 StSq4 3.90 1.84 4 5 3 4 5 5 5 5 5 5.74',\n",
              " '6 FCSp3 2.80 0.76 3 1 2 3 3 3 2 3 3 3.56',\n",
              " '7 CSSp4 3.00 0.94 3 3 3 2 3 3 4 5 3 3.94']"
            ]
          },
          "metadata": {},
          "execution_count": 61
        }
      ]
    },
    {
      "cell_type": "code",
      "source": [
        "#checking for whitespaces\n",
        "for element in element_data:\n",
        "  parts = re.split(r'(\\s+)', element)\n",
        "  print(parts)"
      ],
      "metadata": {
        "colab": {
          "base_uri": "https://localhost:8080/"
        },
        "id": "dQLaa-5uyv2w",
        "outputId": "26593ec1-86e1-4800-94ca-8100e2b05d58"
      },
      "execution_count": 62,
      "outputs": [
        {
          "output_type": "stream",
          "name": "stdout",
          "text": [
            "['1', ' ', '4T+3Tq', ' ', 'q', ' ', '13.70', ' ', '-1.49', ' ', '-1', ' ', '-2', ' ', '-3', ' ', '-1', ' ', '-1', ' ', '1', ' ', '-3', ' ', '-1', ' ', '-2', ' ', '12.21']\n",
            "['2', ' ', '4S', ' ', '9.70', ' ', '-0.83', ' ', '0', ' ', '1', ' ', '-1', ' ', '-1', ' ', '-1', ' ', '0', ' ', '-2', ' ', '-1', ' ', '-2', ' ', '8.87']\n",
            "['3', ' ', 'CCoSp4', ' ', '3.50', ' ', '0.90', ' ', '2', ' ', '3', ' ', '3', ' ', '2', ' ', '3', ' ', '3', ' ', '2', ' ', '2', ' ', '3', ' ', '4.40']\n",
            "['4', ' ', '3A', ' ', '8.80', ' ', 'x', ' ', '2.06', ' ', '3', ' ', '2', ' ', '2', ' ', '3', ' ', '3', ' ', '2', ' ', '3', ' ', '2', ' ', '3', ' ', '10.86']\n",
            "['5', ' ', 'StSq4', ' ', '3.90', ' ', '1.84', ' ', '4', ' ', '5', ' ', '3', ' ', '4', ' ', '5', ' ', '5', ' ', '5', ' ', '5', ' ', '5', ' ', '5.74']\n",
            "['6', ' ', 'FCSp3', ' ', '2.80', ' ', '0.76', ' ', '3', ' ', '1', ' ', '2', ' ', '3', ' ', '3', ' ', '3', ' ', '2', ' ', '3', ' ', '3', ' ', '3.56']\n",
            "['7', ' ', 'CSSp4', ' ', '3.00', ' ', '0.94', ' ', '3', ' ', '3', ' ', '3', ' ', '2', ' ', '3', ' ', '3', ' ', '4', ' ', '5', ' ', '3', ' ', '3.94']\n"
          ]
        }
      ]
    },
    {
      "cell_type": "code",
      "source": [
        "word_counts = [len(entry.split(' ')) for entry in element_data]\n",
        "\n",
        "print(word_counts)"
      ],
      "metadata": {
        "colab": {
          "base_uri": "https://localhost:8080/"
        },
        "id": "BPl0muauFrGJ",
        "outputId": "4d4cc83f-b8f1-4622-dc9f-e4d1676157f8"
      },
      "execution_count": 63,
      "outputs": [
        {
          "output_type": "stream",
          "name": "stdout",
          "text": [
            "[15, 14, 14, 15, 14, 14, 14]\n"
          ]
        }
      ]
    },
    {
      "cell_type": "code",
      "source": [
        "# if there is no Info about element the list has 14 elements, otherwise 15 or more\n",
        "\n",
        "def process_element_data(element_data):\n",
        "    processed_elements = []\n",
        "    infos = []\n",
        "    scores = []\n",
        "\n",
        "    for data in element_data:\n",
        "        parts = re.split(r'\\s+', data.strip())\n",
        "\n",
        "        if len(parts) == 14:\n",
        "          element = parts[1]\n",
        "          info = None\n",
        "        else:\n",
        "          if parts[3] == 'x':\n",
        "            element = parts[1]\n",
        "            info = parts[3]\n",
        "          elif parts[4] == 'x':\n",
        "            element = parts[1]\n",
        "            info = parts[2], parts[4]\n",
        "          else:\n",
        "            if parts[3] in ('F', 'e', '!', 'q', '*', '<'):\n",
        "              element = parts[1]\n",
        "              info = parts[2], parts[3]\n",
        "            else:\n",
        "              element = parts[1]\n",
        "              info = parts[2]\n",
        "\n",
        "        final_value = float(parts[-1])\n",
        "        goe = float(parts[-11])\n",
        "        jugdes_scores = [float(score) for score in parts[-10:-2]]\n",
        "        base_value = round(final_value - abs(goe) if goe > 0 else final_value + abs(goe), 2)\n",
        "\n",
        "        processed_elements.append(element)\n",
        "        infos.append(info)\n",
        "        scores.append((base_value, goe, jugdes_scores, final_value))\n",
        "\n",
        "    return processed_elements, infos, scores"
      ],
      "metadata": {
        "id": "4fFmXK_-AQis"
      },
      "execution_count": 77,
      "outputs": []
    },
    {
      "cell_type": "code",
      "source": [
        "elements, infos, scores = process_element_data(element_data)\n",
        "print(elements)\n",
        "print(infos)\n",
        "print(scores)"
      ],
      "metadata": {
        "colab": {
          "base_uri": "https://localhost:8080/"
        },
        "id": "q_l1nMJ7IoUn",
        "outputId": "0b97c55c-b682-45e2-c51d-633e9063ddb9"
      },
      "execution_count": 78,
      "outputs": [
        {
          "output_type": "stream",
          "name": "stdout",
          "text": [
            "['4T+3Tq', '4S', 'CCoSp4', '3A', 'StSq4', 'FCSp3', 'CSSp4']\n",
            "['q', None, None, 'x', None, None, None]\n",
            "[(13.7, -1.49, [-1.0, -2.0, -3.0, -1.0, -1.0, 1.0, -3.0, -1.0], 12.21), (9.7, -0.83, [0.0, 1.0, -1.0, -1.0, -1.0, 0.0, -2.0, -1.0], 8.87), (3.5, 0.9, [2.0, 3.0, 3.0, 2.0, 3.0, 3.0, 2.0, 2.0], 4.4), (8.8, 2.06, [3.0, 2.0, 2.0, 3.0, 3.0, 2.0, 3.0, 2.0], 10.86), (3.9, 1.84, [4.0, 5.0, 3.0, 4.0, 5.0, 5.0, 5.0, 5.0], 5.74), (2.8, 0.76, [3.0, 1.0, 2.0, 3.0, 3.0, 3.0, 2.0, 3.0], 3.56), (3.0, 0.94, [3.0, 3.0, 3.0, 2.0, 3.0, 3.0, 4.0, 5.0], 3.94)]\n"
          ]
        }
      ]
    }
  ]
}